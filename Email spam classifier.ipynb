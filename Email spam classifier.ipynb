{
 "cells": [
  {
   "cell_type": "code",
   "execution_count": 2,
   "id": "30f1e66b",
   "metadata": {},
   "outputs": [],
   "source": [
    "import numpy as np\n",
    "import pandas as pd"
   ]
  },
  {
   "cell_type": "code",
   "execution_count": 3,
   "id": "44b0c842",
   "metadata": {},
   "outputs": [],
   "source": [
    "df = pd.read_csv('C:/Users/HP/spam_ham_dataset.csv')#df = data frame"
   ]
  },
  {
   "cell_type": "code",
   "execution_count": 4,
   "id": "80d3787a",
   "metadata": {},
   "outputs": [
    {
     "data": {
      "text/plain": [
       "(5171, 4)"
      ]
     },
     "execution_count": 4,
     "metadata": {},
     "output_type": "execute_result"
    }
   ],
   "source": [
    "df.shape"
   ]
  },
  {
   "cell_type": "markdown",
   "id": "94994ddc",
   "metadata": {},
   "source": [
    "steps :\n",
    "1. data clearing \n",
    "2. EDA \n",
    "3. Text preprocessing \n",
    "4. Modele building\n",
    "5. Evaluation"
   ]
  },
  {
   "cell_type": "markdown",
   "id": "95b335e4",
   "metadata": {},
   "source": [
    "#data clearing"
   ]
  },
  {
   "cell_type": "code",
   "execution_count": 59,
   "id": "a918fae4",
   "metadata": {},
   "outputs": [
    {
     "name": "stdout",
     "output_type": "stream",
     "text": [
      "<class 'pandas.core.frame.DataFrame'>\n",
      "RangeIndex: 5171 entries, 0 to 5170\n",
      "Data columns (total 4 columns):\n",
      " #   Column      Non-Null Count  Dtype \n",
      "---  ------      --------------  ----- \n",
      " 0   Unnamed: 0  5171 non-null   int64 \n",
      " 1   label       5171 non-null   object\n",
      " 2   text        5171 non-null   object\n",
      " 3   label_num   5171 non-null   int64 \n",
      "dtypes: int64(2), object(2)\n",
      "memory usage: 161.7+ KB\n"
     ]
    }
   ],
   "source": [
    "df.info()"
   ]
  },
  {
   "cell_type": "code",
   "execution_count": 14,
   "id": "5ff3ffdb",
   "metadata": {},
   "outputs": [],
   "source": [
    "#data have no values missing so we will continue"
   ]
  },
  {
   "cell_type": "code",
   "execution_count": 17,
   "id": "1a485b0a",
   "metadata": {},
   "outputs": [
    {
     "data": {
      "text/html": [
       "<div>\n",
       "<style scoped>\n",
       "    .dataframe tbody tr th:only-of-type {\n",
       "        vertical-align: middle;\n",
       "    }\n",
       "\n",
       "    .dataframe tbody tr th {\n",
       "        vertical-align: top;\n",
       "    }\n",
       "\n",
       "    .dataframe thead th {\n",
       "        text-align: right;\n",
       "    }\n",
       "</style>\n",
       "<table border=\"1\" class=\"dataframe\">\n",
       "  <thead>\n",
       "    <tr style=\"text-align: right;\">\n",
       "      <th></th>\n",
       "      <th>Unnamed: 0</th>\n",
       "      <th>label</th>\n",
       "      <th>text</th>\n",
       "      <th>label_num</th>\n",
       "    </tr>\n",
       "  </thead>\n",
       "  <tbody>\n",
       "    <tr>\n",
       "      <th>0</th>\n",
       "      <td>605</td>\n",
       "      <td>ham</td>\n",
       "      <td>Subject: enron methanol ; meter # : 988291\\r\\n...</td>\n",
       "      <td>0</td>\n",
       "    </tr>\n",
       "    <tr>\n",
       "      <th>1</th>\n",
       "      <td>2349</td>\n",
       "      <td>ham</td>\n",
       "      <td>Subject: hpl nom for january 9 , 2001\\r\\n( see...</td>\n",
       "      <td>0</td>\n",
       "    </tr>\n",
       "    <tr>\n",
       "      <th>2</th>\n",
       "      <td>3624</td>\n",
       "      <td>ham</td>\n",
       "      <td>Subject: neon retreat\\r\\nho ho ho , we ' re ar...</td>\n",
       "      <td>0</td>\n",
       "    </tr>\n",
       "    <tr>\n",
       "      <th>3</th>\n",
       "      <td>4685</td>\n",
       "      <td>spam</td>\n",
       "      <td>Subject: photoshop , windows , office . cheap ...</td>\n",
       "      <td>1</td>\n",
       "    </tr>\n",
       "    <tr>\n",
       "      <th>4</th>\n",
       "      <td>2030</td>\n",
       "      <td>ham</td>\n",
       "      <td>Subject: re : indian springs\\r\\nthis deal is t...</td>\n",
       "      <td>0</td>\n",
       "    </tr>\n",
       "  </tbody>\n",
       "</table>\n",
       "</div>"
      ],
      "text/plain": [
       "   Unnamed: 0 label                                               text  \\\n",
       "0         605   ham  Subject: enron methanol ; meter # : 988291\\r\\n...   \n",
       "1        2349   ham  Subject: hpl nom for january 9 , 2001\\r\\n( see...   \n",
       "2        3624   ham  Subject: neon retreat\\r\\nho ho ho , we ' re ar...   \n",
       "3        4685  spam  Subject: photoshop , windows , office . cheap ...   \n",
       "4        2030   ham  Subject: re : indian springs\\r\\nthis deal is t...   \n",
       "\n",
       "   label_num  \n",
       "0          0  \n",
       "1          0  \n",
       "2          0  \n",
       "3          1  \n",
       "4          0  "
      ]
     },
     "execution_count": 17,
     "metadata": {},
     "output_type": "execute_result"
    }
   ],
   "source": [
    "df.head()"
   ]
  },
  {
   "cell_type": "code",
   "execution_count": 11,
   "id": "416f652e",
   "metadata": {},
   "outputs": [],
   "source": [
    "# as we need only spam and ham and text in the model so we will drop unnamed :0 and label_num"
   ]
  },
  {
   "cell_type": "code",
   "execution_count": 5,
   "id": "3a55882f",
   "metadata": {},
   "outputs": [],
   "source": [
    "df.drop(columns=['label_num'], inplace=True)"
   ]
  },
  {
   "cell_type": "code",
   "execution_count": 57,
   "id": "7a9e7fa0",
   "metadata": {
    "scrolled": true
   },
   "outputs": [
    {
     "data": {
      "text/html": [
       "<div>\n",
       "<style scoped>\n",
       "    .dataframe tbody tr th:only-of-type {\n",
       "        vertical-align: middle;\n",
       "    }\n",
       "\n",
       "    .dataframe tbody tr th {\n",
       "        vertical-align: top;\n",
       "    }\n",
       "\n",
       "    .dataframe thead th {\n",
       "        text-align: right;\n",
       "    }\n",
       "</style>\n",
       "<table border=\"1\" class=\"dataframe\">\n",
       "  <thead>\n",
       "    <tr style=\"text-align: right;\">\n",
       "      <th></th>\n",
       "      <th>Unnamed: 0</th>\n",
       "      <th>label</th>\n",
       "      <th>text</th>\n",
       "      <th>label_num</th>\n",
       "    </tr>\n",
       "  </thead>\n",
       "  <tbody>\n",
       "    <tr>\n",
       "      <th>0</th>\n",
       "      <td>605</td>\n",
       "      <td>ham</td>\n",
       "      <td>Subject: enron methanol ; meter # : 988291\\r\\n...</td>\n",
       "      <td>0</td>\n",
       "    </tr>\n",
       "    <tr>\n",
       "      <th>1</th>\n",
       "      <td>2349</td>\n",
       "      <td>ham</td>\n",
       "      <td>Subject: hpl nom for january 9 , 2001\\r\\n( see...</td>\n",
       "      <td>0</td>\n",
       "    </tr>\n",
       "    <tr>\n",
       "      <th>2</th>\n",
       "      <td>3624</td>\n",
       "      <td>ham</td>\n",
       "      <td>Subject: neon retreat\\r\\nho ho ho , we ' re ar...</td>\n",
       "      <td>0</td>\n",
       "    </tr>\n",
       "    <tr>\n",
       "      <th>3</th>\n",
       "      <td>4685</td>\n",
       "      <td>spam</td>\n",
       "      <td>Subject: photoshop , windows , office . cheap ...</td>\n",
       "      <td>1</td>\n",
       "    </tr>\n",
       "    <tr>\n",
       "      <th>4</th>\n",
       "      <td>2030</td>\n",
       "      <td>ham</td>\n",
       "      <td>Subject: re : indian springs\\r\\nthis deal is t...</td>\n",
       "      <td>0</td>\n",
       "    </tr>\n",
       "  </tbody>\n",
       "</table>\n",
       "</div>"
      ],
      "text/plain": [
       "   Unnamed: 0 label                                               text  \\\n",
       "0         605   ham  Subject: enron methanol ; meter # : 988291\\r\\n...   \n",
       "1        2349   ham  Subject: hpl nom for january 9 , 2001\\r\\n( see...   \n",
       "2        3624   ham  Subject: neon retreat\\r\\nho ho ho , we ' re ar...   \n",
       "3        4685  spam  Subject: photoshop , windows , office . cheap ...   \n",
       "4        2030   ham  Subject: re : indian springs\\r\\nthis deal is t...   \n",
       "\n",
       "   label_num  \n",
       "0          0  \n",
       "1          0  \n",
       "2          0  \n",
       "3          1  \n",
       "4          0  "
      ]
     },
     "execution_count": 57,
     "metadata": {},
     "output_type": "execute_result"
    }
   ],
   "source": [
    "df.head()"
   ]
  },
  {
   "cell_type": "code",
   "execution_count": 6,
   "id": "a675405a",
   "metadata": {},
   "outputs": [],
   "source": [
    "df.drop(columns=['Unnamed: 0'], inplace=True)"
   ]
  },
  {
   "cell_type": "code",
   "execution_count": 62,
   "id": "7a79da34",
   "metadata": {},
   "outputs": [
    {
     "data": {
      "text/html": [
       "<div>\n",
       "<style scoped>\n",
       "    .dataframe tbody tr th:only-of-type {\n",
       "        vertical-align: middle;\n",
       "    }\n",
       "\n",
       "    .dataframe tbody tr th {\n",
       "        vertical-align: top;\n",
       "    }\n",
       "\n",
       "    .dataframe thead th {\n",
       "        text-align: right;\n",
       "    }\n",
       "</style>\n",
       "<table border=\"1\" class=\"dataframe\">\n",
       "  <thead>\n",
       "    <tr style=\"text-align: right;\">\n",
       "      <th></th>\n",
       "      <th>label</th>\n",
       "      <th>text</th>\n",
       "    </tr>\n",
       "  </thead>\n",
       "  <tbody>\n",
       "    <tr>\n",
       "      <th>0</th>\n",
       "      <td>ham</td>\n",
       "      <td>Subject: enron methanol ; meter # : 988291\\r\\n...</td>\n",
       "    </tr>\n",
       "    <tr>\n",
       "      <th>1</th>\n",
       "      <td>ham</td>\n",
       "      <td>Subject: hpl nom for january 9 , 2001\\r\\n( see...</td>\n",
       "    </tr>\n",
       "    <tr>\n",
       "      <th>2</th>\n",
       "      <td>ham</td>\n",
       "      <td>Subject: neon retreat\\r\\nho ho ho , we ' re ar...</td>\n",
       "    </tr>\n",
       "    <tr>\n",
       "      <th>3</th>\n",
       "      <td>spam</td>\n",
       "      <td>Subject: photoshop , windows , office . cheap ...</td>\n",
       "    </tr>\n",
       "    <tr>\n",
       "      <th>4</th>\n",
       "      <td>ham</td>\n",
       "      <td>Subject: re : indian springs\\r\\nthis deal is t...</td>\n",
       "    </tr>\n",
       "  </tbody>\n",
       "</table>\n",
       "</div>"
      ],
      "text/plain": [
       "  label                                               text\n",
       "0   ham  Subject: enron methanol ; meter # : 988291\\r\\n...\n",
       "1   ham  Subject: hpl nom for january 9 , 2001\\r\\n( see...\n",
       "2   ham  Subject: neon retreat\\r\\nho ho ho , we ' re ar...\n",
       "3  spam  Subject: photoshop , windows , office . cheap ...\n",
       "4   ham  Subject: re : indian springs\\r\\nthis deal is t..."
      ]
     },
     "execution_count": 62,
     "metadata": {},
     "output_type": "execute_result"
    }
   ],
   "source": [
    "df.head()"
   ]
  },
  {
   "cell_type": "code",
   "execution_count": 22,
   "id": "5e7cc0f9",
   "metadata": {},
   "outputs": [],
   "source": [
    "# renaming the columns"
   ]
  },
  {
   "cell_type": "code",
   "execution_count": 7,
   "id": "087577f2",
   "metadata": {},
   "outputs": [],
   "source": [
    "df.rename(columns={'label':'target'},inplace=True)"
   ]
  },
  {
   "cell_type": "code",
   "execution_count": 64,
   "id": "2d114f7c",
   "metadata": {},
   "outputs": [
    {
     "data": {
      "text/html": [
       "<div>\n",
       "<style scoped>\n",
       "    .dataframe tbody tr th:only-of-type {\n",
       "        vertical-align: middle;\n",
       "    }\n",
       "\n",
       "    .dataframe tbody tr th {\n",
       "        vertical-align: top;\n",
       "    }\n",
       "\n",
       "    .dataframe thead th {\n",
       "        text-align: right;\n",
       "    }\n",
       "</style>\n",
       "<table border=\"1\" class=\"dataframe\">\n",
       "  <thead>\n",
       "    <tr style=\"text-align: right;\">\n",
       "      <th></th>\n",
       "      <th>target</th>\n",
       "      <th>text</th>\n",
       "    </tr>\n",
       "  </thead>\n",
       "  <tbody>\n",
       "    <tr>\n",
       "      <th>0</th>\n",
       "      <td>ham</td>\n",
       "      <td>Subject: enron methanol ; meter # : 988291\\r\\n...</td>\n",
       "    </tr>\n",
       "    <tr>\n",
       "      <th>1</th>\n",
       "      <td>ham</td>\n",
       "      <td>Subject: hpl nom for january 9 , 2001\\r\\n( see...</td>\n",
       "    </tr>\n",
       "    <tr>\n",
       "      <th>2</th>\n",
       "      <td>ham</td>\n",
       "      <td>Subject: neon retreat\\r\\nho ho ho , we ' re ar...</td>\n",
       "    </tr>\n",
       "    <tr>\n",
       "      <th>3</th>\n",
       "      <td>spam</td>\n",
       "      <td>Subject: photoshop , windows , office . cheap ...</td>\n",
       "    </tr>\n",
       "    <tr>\n",
       "      <th>4</th>\n",
       "      <td>ham</td>\n",
       "      <td>Subject: re : indian springs\\r\\nthis deal is t...</td>\n",
       "    </tr>\n",
       "  </tbody>\n",
       "</table>\n",
       "</div>"
      ],
      "text/plain": [
       "  target                                               text\n",
       "0    ham  Subject: enron methanol ; meter # : 988291\\r\\n...\n",
       "1    ham  Subject: hpl nom for january 9 , 2001\\r\\n( see...\n",
       "2    ham  Subject: neon retreat\\r\\nho ho ho , we ' re ar...\n",
       "3   spam  Subject: photoshop , windows , office . cheap ...\n",
       "4    ham  Subject: re : indian springs\\r\\nthis deal is t..."
      ]
     },
     "execution_count": 64,
     "metadata": {},
     "output_type": "execute_result"
    }
   ],
   "source": [
    "df.head()"
   ]
  },
  {
   "cell_type": "code",
   "execution_count": 26,
   "id": "3c3663f9",
   "metadata": {},
   "outputs": [],
   "source": [
    "# we have to put numbers in place of spam and ham "
   ]
  },
  {
   "cell_type": "code",
   "execution_count": 8,
   "id": "ec180bd7",
   "metadata": {},
   "outputs": [],
   "source": [
    "from sklearn.preprocessing import LabelEncoder#used to convert text to numbers\n",
    "encoder = LabelEncoder()"
   ]
  },
  {
   "cell_type": "code",
   "execution_count": 9,
   "id": "1737225c",
   "metadata": {},
   "outputs": [],
   "source": [
    "df['target']=encoder.fit_transform(df['target'])"
   ]
  },
  {
   "cell_type": "code",
   "execution_count": 36,
   "id": "e4d17f53",
   "metadata": {},
   "outputs": [],
   "source": [
    "#assigning 0 to ham 1 to spam and again replacing it with target column"
   ]
  },
  {
   "cell_type": "code",
   "execution_count": 39,
   "id": "d0b95740",
   "metadata": {},
   "outputs": [
    {
     "data": {
      "text/html": [
       "<div>\n",
       "<style scoped>\n",
       "    .dataframe tbody tr th:only-of-type {\n",
       "        vertical-align: middle;\n",
       "    }\n",
       "\n",
       "    .dataframe tbody tr th {\n",
       "        vertical-align: top;\n",
       "    }\n",
       "\n",
       "    .dataframe thead th {\n",
       "        text-align: right;\n",
       "    }\n",
       "</style>\n",
       "<table border=\"1\" class=\"dataframe\">\n",
       "  <thead>\n",
       "    <tr style=\"text-align: right;\">\n",
       "      <th></th>\n",
       "      <th>Unnamed: 0</th>\n",
       "      <th>target</th>\n",
       "      <th>text</th>\n",
       "    </tr>\n",
       "  </thead>\n",
       "  <tbody>\n",
       "    <tr>\n",
       "      <th>0</th>\n",
       "      <td>605</td>\n",
       "      <td>0</td>\n",
       "      <td>Subject: enron methanol ; meter # : 988291\\r\\n...</td>\n",
       "    </tr>\n",
       "    <tr>\n",
       "      <th>1</th>\n",
       "      <td>2349</td>\n",
       "      <td>0</td>\n",
       "      <td>Subject: hpl nom for january 9 , 2001\\r\\n( see...</td>\n",
       "    </tr>\n",
       "    <tr>\n",
       "      <th>2</th>\n",
       "      <td>3624</td>\n",
       "      <td>0</td>\n",
       "      <td>Subject: neon retreat\\r\\nho ho ho , we ' re ar...</td>\n",
       "    </tr>\n",
       "    <tr>\n",
       "      <th>3</th>\n",
       "      <td>4685</td>\n",
       "      <td>1</td>\n",
       "      <td>Subject: photoshop , windows , office . cheap ...</td>\n",
       "    </tr>\n",
       "    <tr>\n",
       "      <th>4</th>\n",
       "      <td>2030</td>\n",
       "      <td>0</td>\n",
       "      <td>Subject: re : indian springs\\r\\nthis deal is t...</td>\n",
       "    </tr>\n",
       "  </tbody>\n",
       "</table>\n",
       "</div>"
      ],
      "text/plain": [
       "   Unnamed: 0  target                                               text\n",
       "0         605       0  Subject: enron methanol ; meter # : 988291\\r\\n...\n",
       "1        2349       0  Subject: hpl nom for january 9 , 2001\\r\\n( see...\n",
       "2        3624       0  Subject: neon retreat\\r\\nho ho ho , we ' re ar...\n",
       "3        4685       1  Subject: photoshop , windows , office . cheap ...\n",
       "4        2030       0  Subject: re : indian springs\\r\\nthis deal is t..."
      ]
     },
     "execution_count": 39,
     "metadata": {},
     "output_type": "execute_result"
    }
   ],
   "source": [
    "df.head()"
   ]
  },
  {
   "cell_type": "code",
   "execution_count": 10,
   "id": "1b24a51e",
   "metadata": {},
   "outputs": [
    {
     "data": {
      "text/plain": [
       "target    0\n",
       "text      0\n",
       "dtype: int64"
      ]
     },
     "execution_count": 10,
     "metadata": {},
     "output_type": "execute_result"
    }
   ],
   "source": [
    "#checking missing values\n",
    "df.isnull().sum()#no missing values"
   ]
  },
  {
   "cell_type": "code",
   "execution_count": null,
   "id": "9d67de71",
   "metadata": {},
   "outputs": [],
   "source": []
  },
  {
   "cell_type": "code",
   "execution_count": 18,
   "id": "52032391",
   "metadata": {},
   "outputs": [],
   "source": [
    "#then we will check for the duplicate values and then remove the duplicates"
   ]
  },
  {
   "cell_type": "code",
   "execution_count": 9,
   "id": "7dd7b4e1",
   "metadata": {},
   "outputs": [
    {
     "data": {
      "text/plain": [
       "178"
      ]
     },
     "execution_count": 9,
     "metadata": {},
     "output_type": "execute_result"
    }
   ],
   "source": [
    "df.duplicated().sum()"
   ]
  },
  {
   "cell_type": "code",
   "execution_count": 11,
   "id": "f442f52d",
   "metadata": {},
   "outputs": [],
   "source": [
    "df= df.drop_duplicates(keep='first')#deleting duplicates"
   ]
  },
  {
   "cell_type": "code",
   "execution_count": 12,
   "id": "d33ddd32",
   "metadata": {},
   "outputs": [
    {
     "data": {
      "text/plain": [
       "0"
      ]
     },
     "execution_count": 12,
     "metadata": {},
     "output_type": "execute_result"
    }
   ],
   "source": [
    "df.duplicated().sum()"
   ]
  },
  {
   "cell_type": "code",
   "execution_count": 12,
   "id": "31954b2a",
   "metadata": {},
   "outputs": [
    {
     "data": {
      "text/plain": [
       "(4993, 2)"
      ]
     },
     "execution_count": 12,
     "metadata": {},
     "output_type": "execute_result"
    }
   ],
   "source": [
    "df.shape#new shape of data after clearing"
   ]
  },
  {
   "cell_type": "code",
   "execution_count": 14,
   "id": "51730576",
   "metadata": {},
   "outputs": [],
   "source": [
    "#EDA"
   ]
  },
  {
   "cell_type": "code",
   "execution_count": 15,
   "id": "0f4912ea",
   "metadata": {},
   "outputs": [
    {
     "data": {
      "text/html": [
       "<div>\n",
       "<style scoped>\n",
       "    .dataframe tbody tr th:only-of-type {\n",
       "        vertical-align: middle;\n",
       "    }\n",
       "\n",
       "    .dataframe tbody tr th {\n",
       "        vertical-align: top;\n",
       "    }\n",
       "\n",
       "    .dataframe thead th {\n",
       "        text-align: right;\n",
       "    }\n",
       "</style>\n",
       "<table border=\"1\" class=\"dataframe\">\n",
       "  <thead>\n",
       "    <tr style=\"text-align: right;\">\n",
       "      <th></th>\n",
       "      <th>target</th>\n",
       "      <th>text</th>\n",
       "    </tr>\n",
       "  </thead>\n",
       "  <tbody>\n",
       "    <tr>\n",
       "      <th>0</th>\n",
       "      <td>0</td>\n",
       "      <td>Subject: enron methanol ; meter # : 988291\\r\\n...</td>\n",
       "    </tr>\n",
       "    <tr>\n",
       "      <th>1</th>\n",
       "      <td>0</td>\n",
       "      <td>Subject: hpl nom for january 9 , 2001\\r\\n( see...</td>\n",
       "    </tr>\n",
       "    <tr>\n",
       "      <th>2</th>\n",
       "      <td>0</td>\n",
       "      <td>Subject: neon retreat\\r\\nho ho ho , we ' re ar...</td>\n",
       "    </tr>\n",
       "    <tr>\n",
       "      <th>3</th>\n",
       "      <td>1</td>\n",
       "      <td>Subject: photoshop , windows , office . cheap ...</td>\n",
       "    </tr>\n",
       "    <tr>\n",
       "      <th>4</th>\n",
       "      <td>0</td>\n",
       "      <td>Subject: re : indian springs\\r\\nthis deal is t...</td>\n",
       "    </tr>\n",
       "  </tbody>\n",
       "</table>\n",
       "</div>"
      ],
      "text/plain": [
       "   target                                               text\n",
       "0       0  Subject: enron methanol ; meter # : 988291\\r\\n...\n",
       "1       0  Subject: hpl nom for january 9 , 2001\\r\\n( see...\n",
       "2       0  Subject: neon retreat\\r\\nho ho ho , we ' re ar...\n",
       "3       1  Subject: photoshop , windows , office . cheap ...\n",
       "4       0  Subject: re : indian springs\\r\\nthis deal is t..."
      ]
     },
     "execution_count": 15,
     "metadata": {},
     "output_type": "execute_result"
    }
   ],
   "source": [
    "df.head()"
   ]
  },
  {
   "cell_type": "code",
   "execution_count": 16,
   "id": "ab2ee15c",
   "metadata": {},
   "outputs": [
    {
     "data": {
      "text/plain": [
       "0    3531\n",
       "1    1462\n",
       "Name: target, dtype: int64"
      ]
     },
     "execution_count": 16,
     "metadata": {},
     "output_type": "execute_result"
    }
   ],
   "source": [
    "df['target'].value_counts()#checking how many are spam ar ham"
   ]
  },
  {
   "cell_type": "code",
   "execution_count": 13,
   "id": "c3c28fd1",
   "metadata": {},
   "outputs": [
    {
     "data": {
      "image/png": "[encoded data removed]",
      "text/plain": [
       "<Figure size 432x288 with 1 Axes>"
      ]
     },
     "metadata": {},
     "output_type": "display_data"
    }
   ],
   "source": [
    "import matplotlib.pyplot as plt\n",
    "plt.pie(df['target'].value_counts(), labels=['ham','spam'], autopct= \"%0.2f\")\n",
    "plt.show()"
   ]
  },
  {
   "cell_type": "code",
   "execution_count": 54,
   "id": "1de3f2fb",
   "metadata": {},
   "outputs": [],
   "source": [
    "#data is imbalanced"
   ]
  },
  {
   "cell_type": "code",
   "execution_count": 55,
   "id": "6e7b1bb9",
   "metadata": {},
   "outputs": [],
   "source": [
    "# now create new colums in which we will firstly get no of character in the emails, no of words in , and no of sentances in email"
   ]
  },
  {
   "cell_type": "code",
   "execution_count": 14,
   "id": "a1411b7a",
   "metadata": {},
   "outputs": [],
   "source": [
    "import nltk"
   ]
  },
  {
   "cell_type": "code",
   "execution_count": null,
   "id": "882a62f5",
   "metadata": {},
   "outputs": [],
   "source": [
    "# downloading nltk package"
   ]
  },
  {
   "cell_type": "code",
   "execution_count": 57,
   "id": "868f22f2",
   "metadata": {},
   "outputs": [
    {
     "name": "stderr",
     "output_type": "stream",
     "text": [
      "[nltk_data] Downloading package punkt to\n",
      "[nltk_data]     C:\\Users\\HP\\AppData\\Roaming\\nltk_data...\n",
      "[nltk_data]   Unzipping tokenizers\\punkt.zip.\n"
     ]
    },
    {
     "data": {
      "text/plain": [
       "True"
      ]
     },
     "execution_count": 57,
     "metadata": {},
     "output_type": "execute_result"
    }
   ],
   "source": [
    "nltk.download('punkt')"
   ]
  },
  {
   "cell_type": "code",
   "execution_count": 15,
   "id": "d4ef8121",
   "metadata": {},
   "outputs": [],
   "source": [
    "df['num_characters']=df['text'].apply(len)#creating new column num_char and storint the length of the Email to it"
   ]
  },
  {
   "cell_type": "code",
   "execution_count": 19,
   "id": "3445a72e",
   "metadata": {},
   "outputs": [
    {
     "data": {
      "text/html": [
       "<div>\n",
       "<style scoped>\n",
       "    .dataframe tbody tr th:only-of-type {\n",
       "        vertical-align: middle;\n",
       "    }\n",
       "\n",
       "    .dataframe tbody tr th {\n",
       "        vertical-align: top;\n",
       "    }\n",
       "\n",
       "    .dataframe thead th {\n",
       "        text-align: right;\n",
       "    }\n",
       "</style>\n",
       "<table border=\"1\" class=\"dataframe\">\n",
       "  <thead>\n",
       "    <tr style=\"text-align: right;\">\n",
       "      <th></th>\n",
       "      <th>target</th>\n",
       "      <th>text</th>\n",
       "      <th>num_characters</th>\n",
       "    </tr>\n",
       "  </thead>\n",
       "  <tbody>\n",
       "    <tr>\n",
       "      <th>0</th>\n",
       "      <td>0</td>\n",
       "      <td>Subject: enron methanol ; meter # : 988291\\r\\n...</td>\n",
       "      <td>327</td>\n",
       "    </tr>\n",
       "    <tr>\n",
       "      <th>1</th>\n",
       "      <td>0</td>\n",
       "      <td>Subject: hpl nom for january 9 , 2001\\r\\n( see...</td>\n",
       "      <td>97</td>\n",
       "    </tr>\n",
       "    <tr>\n",
       "      <th>2</th>\n",
       "      <td>0</td>\n",
       "      <td>Subject: neon retreat\\r\\nho ho ho , we ' re ar...</td>\n",
       "      <td>2524</td>\n",
       "    </tr>\n",
       "    <tr>\n",
       "      <th>3</th>\n",
       "      <td>1</td>\n",
       "      <td>Subject: photoshop , windows , office . cheap ...</td>\n",
       "      <td>414</td>\n",
       "    </tr>\n",
       "    <tr>\n",
       "      <th>4</th>\n",
       "      <td>0</td>\n",
       "      <td>Subject: re : indian springs\\r\\nthis deal is t...</td>\n",
       "      <td>336</td>\n",
       "    </tr>\n",
       "  </tbody>\n",
       "</table>\n",
       "</div>"
      ],
      "text/plain": [
       "   target                                               text  num_characters\n",
       "0       0  Subject: enron methanol ; meter # : 988291\\r\\n...             327\n",
       "1       0  Subject: hpl nom for january 9 , 2001\\r\\n( see...              97\n",
       "2       0  Subject: neon retreat\\r\\nho ho ho , we ' re ar...            2524\n",
       "3       1  Subject: photoshop , windows , office . cheap ...             414\n",
       "4       0  Subject: re : indian springs\\r\\nthis deal is t...             336"
      ]
     },
     "execution_count": 19,
     "metadata": {},
     "output_type": "execute_result"
    }
   ],
   "source": [
    "df.head()"
   ]
  },
  {
   "cell_type": "code",
   "execution_count": 63,
   "id": "110c7bea",
   "metadata": {},
   "outputs": [],
   "source": [
    "# for num of words"
   ]
  },
  {
   "cell_type": "code",
   "execution_count": 11,
   "id": "02af79f0",
   "metadata": {},
   "outputs": [],
   "source": [
    "df['num_word']= df['text'].apply(lambda x:len(nltk.word_tokenize(x)))"
   ]
  },
  {
   "cell_type": "code",
   "execution_count": 79,
   "id": "cdfb17b1",
   "metadata": {},
   "outputs": [],
   "source": [
    "#df['text'].apply(lambda x: nltk.word_tokenize(x)) is used to break the sentences into word by word list and to count the length we used len fuction"
   ]
  },
  {
   "cell_type": "code",
   "execution_count": 80,
   "id": "e453e357",
   "metadata": {},
   "outputs": [
    {
     "data": {
      "text/html": [
       "<div>\n",
       "<style scoped>\n",
       "    .dataframe tbody tr th:only-of-type {\n",
       "        vertical-align: middle;\n",
       "    }\n",
       "\n",
       "    .dataframe tbody tr th {\n",
       "        vertical-align: top;\n",
       "    }\n",
       "\n",
       "    .dataframe thead th {\n",
       "        text-align: right;\n",
       "    }\n",
       "</style>\n",
       "<table border=\"1\" class=\"dataframe\">\n",
       "  <thead>\n",
       "    <tr style=\"text-align: right;\">\n",
       "      <th></th>\n",
       "      <th>target</th>\n",
       "      <th>text</th>\n",
       "      <th>num_characters</th>\n",
       "      <th>num_word</th>\n",
       "    </tr>\n",
       "  </thead>\n",
       "  <tbody>\n",
       "    <tr>\n",
       "      <th>0</th>\n",
       "      <td>0</td>\n",
       "      <td>Subject: enron methanol ; meter # : 988291\\r\\n...</td>\n",
       "      <td>327</td>\n",
       "      <td>68</td>\n",
       "    </tr>\n",
       "    <tr>\n",
       "      <th>1</th>\n",
       "      <td>0</td>\n",
       "      <td>Subject: hpl nom for january 9 , 2001\\r\\n( see...</td>\n",
       "      <td>97</td>\n",
       "      <td>24</td>\n",
       "    </tr>\n",
       "    <tr>\n",
       "      <th>2</th>\n",
       "      <td>0</td>\n",
       "      <td>Subject: neon retreat\\r\\nho ho ho , we ' re ar...</td>\n",
       "      <td>2524</td>\n",
       "      <td>551</td>\n",
       "    </tr>\n",
       "    <tr>\n",
       "      <th>3</th>\n",
       "      <td>1</td>\n",
       "      <td>Subject: photoshop , windows , office . cheap ...</td>\n",
       "      <td>414</td>\n",
       "      <td>49</td>\n",
       "    </tr>\n",
       "    <tr>\n",
       "      <th>4</th>\n",
       "      <td>0</td>\n",
       "      <td>Subject: re : indian springs\\r\\nthis deal is t...</td>\n",
       "      <td>336</td>\n",
       "      <td>71</td>\n",
       "    </tr>\n",
       "  </tbody>\n",
       "</table>\n",
       "</div>"
      ],
      "text/plain": [
       "   target                                               text  num_characters  \\\n",
       "0       0  Subject: enron methanol ; meter # : 988291\\r\\n...             327   \n",
       "1       0  Subject: hpl nom for january 9 , 2001\\r\\n( see...              97   \n",
       "2       0  Subject: neon retreat\\r\\nho ho ho , we ' re ar...            2524   \n",
       "3       1  Subject: photoshop , windows , office . cheap ...             414   \n",
       "4       0  Subject: re : indian springs\\r\\nthis deal is t...             336   \n",
       "\n",
       "   num_word  \n",
       "0        68  \n",
       "1        24  \n",
       "2       551  \n",
       "3        49  \n",
       "4        71  "
      ]
     },
     "execution_count": 80,
     "metadata": {},
     "output_type": "execute_result"
    }
   ],
   "source": [
    "df.head()"
   ]
  },
  {
   "cell_type": "code",
   "execution_count": 23,
   "id": "25b8b2dc",
   "metadata": {},
   "outputs": [],
   "source": [
    "#to count the sentances in email"
   ]
  },
  {
   "cell_type": "code",
   "execution_count": 12,
   "id": "9f503617",
   "metadata": {},
   "outputs": [],
   "source": [
    "df['num_sentences']= df['text'].apply(lambda x:len(nltk.sent_tokenize(x)))#same as above difference is to count the sentances in email"
   ]
  },
  {
   "cell_type": "code",
   "execution_count": 22,
   "id": "5b581206",
   "metadata": {},
   "outputs": [
    {
     "data": {
      "text/html": [
       "<div>\n",
       "<style scoped>\n",
       "    .dataframe tbody tr th:only-of-type {\n",
       "        vertical-align: middle;\n",
       "    }\n",
       "\n",
       "    .dataframe tbody tr th {\n",
       "        vertical-align: top;\n",
       "    }\n",
       "\n",
       "    .dataframe thead th {\n",
       "        text-align: right;\n",
       "    }\n",
       "</style>\n",
       "<table border=\"1\" class=\"dataframe\">\n",
       "  <thead>\n",
       "    <tr style=\"text-align: right;\">\n",
       "      <th></th>\n",
       "      <th>target</th>\n",
       "      <th>text</th>\n",
       "      <th>num_characters</th>\n",
       "      <th>num_word</th>\n",
       "      <th>num_sentences</th>\n",
       "    </tr>\n",
       "  </thead>\n",
       "  <tbody>\n",
       "    <tr>\n",
       "      <th>0</th>\n",
       "      <td>0</td>\n",
       "      <td>Subject: enron methanol ; meter # : 988291\\r\\n...</td>\n",
       "      <td>327</td>\n",
       "      <td>68</td>\n",
       "      <td>3</td>\n",
       "    </tr>\n",
       "    <tr>\n",
       "      <th>1</th>\n",
       "      <td>0</td>\n",
       "      <td>Subject: hpl nom for january 9 , 2001\\r\\n( see...</td>\n",
       "      <td>97</td>\n",
       "      <td>24</td>\n",
       "      <td>1</td>\n",
       "    </tr>\n",
       "    <tr>\n",
       "      <th>2</th>\n",
       "      <td>0</td>\n",
       "      <td>Subject: neon retreat\\r\\nho ho ho , we ' re ar...</td>\n",
       "      <td>2524</td>\n",
       "      <td>551</td>\n",
       "      <td>20</td>\n",
       "    </tr>\n",
       "    <tr>\n",
       "      <th>3</th>\n",
       "      <td>1</td>\n",
       "      <td>Subject: photoshop , windows , office . cheap ...</td>\n",
       "      <td>414</td>\n",
       "      <td>49</td>\n",
       "      <td>3</td>\n",
       "    </tr>\n",
       "    <tr>\n",
       "      <th>4</th>\n",
       "      <td>0</td>\n",
       "      <td>Subject: re : indian springs\\r\\nthis deal is t...</td>\n",
       "      <td>336</td>\n",
       "      <td>71</td>\n",
       "      <td>3</td>\n",
       "    </tr>\n",
       "  </tbody>\n",
       "</table>\n",
       "</div>"
      ],
      "text/plain": [
       "   target                                               text  num_characters  \\\n",
       "0       0  Subject: enron methanol ; meter # : 988291\\r\\n...             327   \n",
       "1       0  Subject: hpl nom for january 9 , 2001\\r\\n( see...              97   \n",
       "2       0  Subject: neon retreat\\r\\nho ho ho , we ' re ar...            2524   \n",
       "3       1  Subject: photoshop , windows , office . cheap ...             414   \n",
       "4       0  Subject: re : indian springs\\r\\nthis deal is t...             336   \n",
       "\n",
       "   num_word  num_sentences  \n",
       "0        68              3  \n",
       "1        24              1  \n",
       "2       551             20  \n",
       "3        49              3  \n",
       "4        71              3  "
      ]
     },
     "execution_count": 22,
     "metadata": {},
     "output_type": "execute_result"
    }
   ],
   "source": [
    "df.head()"
   ]
  },
  {
   "cell_type": "code",
   "execution_count": 19,
   "id": "2e7a761c",
   "metadata": {},
   "outputs": [
    {
     "data": {
      "text/html": [
       "<div>\n",
       "<style scoped>\n",
       "    .dataframe tbody tr th:only-of-type {\n",
       "        vertical-align: middle;\n",
       "    }\n",
       "\n",
       "    .dataframe tbody tr th {\n",
       "        vertical-align: top;\n",
       "    }\n",
       "\n",
       "    .dataframe thead th {\n",
       "        text-align: right;\n",
       "    }\n",
       "</style>\n",
       "<table border=\"1\" class=\"dataframe\">\n",
       "  <thead>\n",
       "    <tr style=\"text-align: right;\">\n",
       "      <th></th>\n",
       "      <th>num_characters</th>\n",
       "      <th>num_word</th>\n",
       "      <th>num_sentences</th>\n",
       "    </tr>\n",
       "  </thead>\n",
       "  <tbody>\n",
       "    <tr>\n",
       "      <th>count</th>\n",
       "      <td>4993.000000</td>\n",
       "      <td>4993.000000</td>\n",
       "      <td>4993.000000</td>\n",
       "    </tr>\n",
       "    <tr>\n",
       "      <th>mean</th>\n",
       "      <td>1069.426397</td>\n",
       "      <td>233.678149</td>\n",
       "      <td>10.202884</td>\n",
       "    </tr>\n",
       "    <tr>\n",
       "      <th>std</th>\n",
       "      <td>1547.863387</td>\n",
       "      <td>340.702932</td>\n",
       "      <td>22.003030</td>\n",
       "    </tr>\n",
       "    <tr>\n",
       "      <th>min</th>\n",
       "      <td>11.000000</td>\n",
       "      <td>2.000000</td>\n",
       "      <td>1.000000</td>\n",
       "    </tr>\n",
       "    <tr>\n",
       "      <th>25%</th>\n",
       "      <td>256.000000</td>\n",
       "      <td>55.000000</td>\n",
       "      <td>3.000000</td>\n",
       "    </tr>\n",
       "    <tr>\n",
       "      <th>50%</th>\n",
       "      <td>557.000000</td>\n",
       "      <td>125.000000</td>\n",
       "      <td>6.000000</td>\n",
       "    </tr>\n",
       "    <tr>\n",
       "      <th>75%</th>\n",
       "      <td>1262.000000</td>\n",
       "      <td>288.000000</td>\n",
       "      <td>12.000000</td>\n",
       "    </tr>\n",
       "    <tr>\n",
       "      <th>max</th>\n",
       "      <td>32258.000000</td>\n",
       "      <td>8863.000000</td>\n",
       "      <td>1163.000000</td>\n",
       "    </tr>\n",
       "  </tbody>\n",
       "</table>\n",
       "</div>"
      ],
      "text/plain": [
       "       num_characters     num_word  num_sentences\n",
       "count     4993.000000  4993.000000    4993.000000\n",
       "mean      1069.426397   233.678149      10.202884\n",
       "std       1547.863387   340.702932      22.003030\n",
       "min         11.000000     2.000000       1.000000\n",
       "25%        256.000000    55.000000       3.000000\n",
       "50%        557.000000   125.000000       6.000000\n",
       "75%       1262.000000   288.000000      12.000000\n",
       "max      32258.000000  8863.000000    1163.000000"
      ]
     },
     "execution_count": 19,
     "metadata": {},
     "output_type": "execute_result"
    }
   ],
   "source": [
    "df[['num_characters','num_word','num_sentences']].describe()"
   ]
  },
  {
   "cell_type": "code",
   "execution_count": 28,
   "id": "0f0e1973",
   "metadata": {},
   "outputs": [
    {
     "data": {
      "text/html": [
       "<div>\n",
       "<style scoped>\n",
       "    .dataframe tbody tr th:only-of-type {\n",
       "        vertical-align: middle;\n",
       "    }\n",
       "\n",
       "    .dataframe tbody tr th {\n",
       "        vertical-align: top;\n",
       "    }\n",
       "\n",
       "    .dataframe thead th {\n",
       "        text-align: right;\n",
       "    }\n",
       "</style>\n",
       "<table border=\"1\" class=\"dataframe\">\n",
       "  <thead>\n",
       "    <tr style=\"text-align: right;\">\n",
       "      <th></th>\n",
       "      <th>num_characters</th>\n",
       "      <th>num_word</th>\n",
       "      <th>num_sentences</th>\n",
       "    </tr>\n",
       "  </thead>\n",
       "  <tbody>\n",
       "    <tr>\n",
       "      <th>count</th>\n",
       "      <td>3672.000000</td>\n",
       "      <td>3672.000000</td>\n",
       "      <td>3672.000000</td>\n",
       "    </tr>\n",
       "    <tr>\n",
       "      <th>mean</th>\n",
       "      <td>977.008170</td>\n",
       "      <td>226.239107</td>\n",
       "      <td>8.634259</td>\n",
       "    </tr>\n",
       "    <tr>\n",
       "      <th>std</th>\n",
       "      <td>1382.827493</td>\n",
       "      <td>332.179661</td>\n",
       "      <td>21.912879</td>\n",
       "    </tr>\n",
       "    <tr>\n",
       "      <th>min</th>\n",
       "      <td>18.000000</td>\n",
       "      <td>3.000000</td>\n",
       "      <td>1.000000</td>\n",
       "    </tr>\n",
       "    <tr>\n",
       "      <th>25%</th>\n",
       "      <td>231.750000</td>\n",
       "      <td>51.000000</td>\n",
       "      <td>3.000000</td>\n",
       "    </tr>\n",
       "    <tr>\n",
       "      <th>50%</th>\n",
       "      <td>530.000000</td>\n",
       "      <td>124.000000</td>\n",
       "      <td>5.000000</td>\n",
       "    </tr>\n",
       "    <tr>\n",
       "      <th>75%</th>\n",
       "      <td>1227.250000</td>\n",
       "      <td>294.000000</td>\n",
       "      <td>10.000000</td>\n",
       "    </tr>\n",
       "    <tr>\n",
       "      <th>max</th>\n",
       "      <td>32258.000000</td>\n",
       "      <td>8863.000000</td>\n",
       "      <td>1163.000000</td>\n",
       "    </tr>\n",
       "  </tbody>\n",
       "</table>\n",
       "</div>"
      ],
      "text/plain": [
       "       num_characters     num_word  num_sentences\n",
       "count     3672.000000  3672.000000    3672.000000\n",
       "mean       977.008170   226.239107       8.634259\n",
       "std       1382.827493   332.179661      21.912879\n",
       "min         18.000000     3.000000       1.000000\n",
       "25%        231.750000    51.000000       3.000000\n",
       "50%        530.000000   124.000000       5.000000\n",
       "75%       1227.250000   294.000000      10.000000\n",
       "max      32258.000000  8863.000000    1163.000000"
      ]
     },
     "execution_count": 28,
     "metadata": {},
     "output_type": "execute_result"
    }
   ],
   "source": [
    "#for ham emails\n",
    "df[df['target']==0][['num_characters','num_word','num_sentences']].describe()"
   ]
  },
  {
   "cell_type": "code",
   "execution_count": 31,
   "id": "030d63dc",
   "metadata": {},
   "outputs": [
    {
     "data": {
      "text/html": [
       "<div>\n",
       "<style scoped>\n",
       "    .dataframe tbody tr th:only-of-type {\n",
       "        vertical-align: middle;\n",
       "    }\n",
       "\n",
       "    .dataframe tbody tr th {\n",
       "        vertical-align: top;\n",
       "    }\n",
       "\n",
       "    .dataframe thead th {\n",
       "        text-align: right;\n",
       "    }\n",
       "</style>\n",
       "<table border=\"1\" class=\"dataframe\">\n",
       "  <thead>\n",
       "    <tr style=\"text-align: right;\">\n",
       "      <th></th>\n",
       "      <th>num_characters</th>\n",
       "      <th>num_word</th>\n",
       "      <th>num_sentences</th>\n",
       "    </tr>\n",
       "  </thead>\n",
       "  <tbody>\n",
       "    <tr>\n",
       "      <th>count</th>\n",
       "      <td>1499.000000</td>\n",
       "      <td>1499.000000</td>\n",
       "      <td>1499.000000</td>\n",
       "    </tr>\n",
       "    <tr>\n",
       "      <th>mean</th>\n",
       "      <td>1223.256171</td>\n",
       "      <td>236.387592</td>\n",
       "      <td>13.344229</td>\n",
       "    </tr>\n",
       "    <tr>\n",
       "      <th>std</th>\n",
       "      <td>1825.986210</td>\n",
       "      <td>346.821249</td>\n",
       "      <td>20.724178</td>\n",
       "    </tr>\n",
       "    <tr>\n",
       "      <th>min</th>\n",
       "      <td>11.000000</td>\n",
       "      <td>2.000000</td>\n",
       "      <td>1.000000</td>\n",
       "    </tr>\n",
       "    <tr>\n",
       "      <th>25%</th>\n",
       "      <td>283.000000</td>\n",
       "      <td>55.000000</td>\n",
       "      <td>3.000000</td>\n",
       "    </tr>\n",
       "    <tr>\n",
       "      <th>50%</th>\n",
       "      <td>576.000000</td>\n",
       "      <td>116.000000</td>\n",
       "      <td>7.000000</td>\n",
       "    </tr>\n",
       "    <tr>\n",
       "      <th>75%</th>\n",
       "      <td>1253.500000</td>\n",
       "      <td>244.000000</td>\n",
       "      <td>15.000000</td>\n",
       "    </tr>\n",
       "    <tr>\n",
       "      <th>max</th>\n",
       "      <td>22073.000000</td>\n",
       "      <td>3963.000000</td>\n",
       "      <td>331.000000</td>\n",
       "    </tr>\n",
       "  </tbody>\n",
       "</table>\n",
       "</div>"
      ],
      "text/plain": [
       "       num_characters     num_word  num_sentences\n",
       "count     1499.000000  1499.000000    1499.000000\n",
       "mean      1223.256171   236.387592      13.344229\n",
       "std       1825.986210   346.821249      20.724178\n",
       "min         11.000000     2.000000       1.000000\n",
       "25%        283.000000    55.000000       3.000000\n",
       "50%        576.000000   116.000000       7.000000\n",
       "75%       1253.500000   244.000000      15.000000\n",
       "max      22073.000000  3963.000000     331.000000"
      ]
     },
     "execution_count": 31,
     "metadata": {},
     "output_type": "execute_result"
    }
   ],
   "source": [
    "#for spam\n",
    "df[df['target']==1][['num_characters','num_word','num_sentences']].describe()"
   ]
  },
  {
   "cell_type": "code",
   "execution_count": 32,
   "id": "5a2c3d4d",
   "metadata": {},
   "outputs": [],
   "source": [
    "#we can see the difference in the mean values of ham and spam emails "
   ]
  },
  {
   "cell_type": "code",
   "execution_count": null,
   "id": "eeb7dc24",
   "metadata": {},
   "outputs": [],
   "source": [
    "#to see more clear picture we can plot histogram"
   ]
  },
  {
   "cell_type": "code",
   "execution_count": 16,
   "id": "225043da",
   "metadata": {},
   "outputs": [],
   "source": [
    "import seaborn as sns"
   ]
  },
  {
   "cell_type": "code",
   "execution_count": 14,
   "id": "8ebeec2a",
   "metadata": {},
   "outputs": [
    {
     "data": {
      "text/plain": [
       "<AxesSubplot:xlabel='num_characters', ylabel='Count'>"
      ]
     },
     "execution_count": 14,
     "metadata": {},
     "output_type": "execute_result"
    },
    {
     "data": {
      "image/png": "[encoded data removed]",
      "text/plain": [
       "<Figure size 864x432 with 1 Axes>"
      ]
     },
     "metadata": {
      "needs_background": "light"
     },
     "output_type": "display_data"
    }
   ],
   "source": [
    "plt.figure(figsize=(12,6))\n",
    "sns.histplot(df[df['target']==0]['num_characters'])\n",
    "sns.histplot(df[df['target']==1]['num_characters'],color='red')#just verifying above describe()"
   ]
  },
  {
   "cell_type": "code",
   "execution_count": 40,
   "id": "09a3e658",
   "metadata": {},
   "outputs": [
    {
     "data": {
      "text/plain": [
       "<seaborn.axisgrid.PairGrid at 0x15d532a7910>"
      ]
     },
     "execution_count": 40,
     "metadata": {},
     "output_type": "execute_result"
    },
    {
     "data": {
      "image/png": "[encoded data removed]",
      "text/plain": [
       "<Figure size 762.375x720 with 20 Axes>"
      ]
     },
     "metadata": {
      "needs_background": "light"
     },
     "output_type": "display_data"
    }
   ],
   "source": [
    "sns.pairplot(df,hue='target')"
   ]
  },
  {
   "cell_type": "code",
   "execution_count": 84,
   "id": "c162d2e5",
   "metadata": {},
   "outputs": [
    {
     "data": {
      "text/html": [
       "<div>\n",
       "<style scoped>\n",
       "    .dataframe tbody tr th:only-of-type {\n",
       "        vertical-align: middle;\n",
       "    }\n",
       "\n",
       "    .dataframe tbody tr th {\n",
       "        vertical-align: top;\n",
       "    }\n",
       "\n",
       "    .dataframe thead th {\n",
       "        text-align: right;\n",
       "    }\n",
       "</style>\n",
       "<table border=\"1\" class=\"dataframe\">\n",
       "  <thead>\n",
       "    <tr style=\"text-align: right;\">\n",
       "      <th></th>\n",
       "      <th>target</th>\n",
       "      <th>num_characters</th>\n",
       "      <th>num_word</th>\n",
       "      <th>num_sentences</th>\n",
       "    </tr>\n",
       "  </thead>\n",
       "  <tbody>\n",
       "    <tr>\n",
       "      <th>target</th>\n",
       "      <td>1.000000</td>\n",
       "      <td>0.074794</td>\n",
       "      <td>0.014425</td>\n",
       "      <td>0.098752</td>\n",
       "    </tr>\n",
       "    <tr>\n",
       "      <th>num_characters</th>\n",
       "      <td>0.074794</td>\n",
       "      <td>1.000000</td>\n",
       "      <td>0.970492</td>\n",
       "      <td>0.655812</td>\n",
       "    </tr>\n",
       "    <tr>\n",
       "      <th>num_word</th>\n",
       "      <td>0.014425</td>\n",
       "      <td>0.970492</td>\n",
       "      <td>1.000000</td>\n",
       "      <td>0.717001</td>\n",
       "    </tr>\n",
       "    <tr>\n",
       "      <th>num_sentences</th>\n",
       "      <td>0.098752</td>\n",
       "      <td>0.655812</td>\n",
       "      <td>0.717001</td>\n",
       "      <td>1.000000</td>\n",
       "    </tr>\n",
       "  </tbody>\n",
       "</table>\n",
       "</div>"
      ],
      "text/plain": [
       "                  target  num_characters  num_word  num_sentences\n",
       "target          1.000000        0.074794  0.014425       0.098752\n",
       "num_characters  0.074794        1.000000  0.970492       0.655812\n",
       "num_word        0.014425        0.970492  1.000000       0.717001\n",
       "num_sentences   0.098752        0.655812  0.717001       1.000000"
      ]
     },
     "execution_count": 84,
     "metadata": {},
     "output_type": "execute_result"
    }
   ],
   "source": [
    "df.corr()"
   ]
  },
  {
   "cell_type": "code",
   "execution_count": 86,
   "id": "0357a3f6",
   "metadata": {},
   "outputs": [
    {
     "data": {
      "text/plain": [
       "<AxesSubplot:>"
      ]
     },
     "execution_count": 86,
     "metadata": {},
     "output_type": "execute_result"
    },
    {
     "data": {
      "image/png": "[encoded data removed]",
      "text/plain": [
       "<Figure size 432x288 with 2 Axes>"
      ]
     },
     "metadata": {
      "needs_background": "light"
     },
     "output_type": "display_data"
    }
   ],
   "source": [
    "sns.heatmap(df.corr(),annot=True)"
   ]
  },
  {
   "cell_type": "markdown",
   "id": "e378ce2b",
   "metadata": {},
   "source": [
    "# Data preprocessing\n",
    "1. lower case \n",
    "2. tokenization(breaking it into words) \n",
    "3. removing special character\n",
    "4. removing stop words and punctuation(word which don't have any contribution in the model)\n",
    "5. stemming(making different tenses of same words to one word only)\n"
   ]
  },
  {
   "cell_type": "code",
   "execution_count": 17,
   "id": "70d26f6b",
   "metadata": {},
   "outputs": [],
   "source": [
    "def transform_text(text):\n",
    "    text = text.lower()#for lower case\n",
    "    text = nltk.word_tokenize(text)#for tokenization\n",
    "    y = []\n",
    "    # here to remove special character we will write a for loop in text and check for alpha numeric values and storing it in y list\n",
    "    for i in text:\n",
    "        if i.isalnum():#if i is alpha numeric which means it will not take any special character\n",
    "            y.append(i)\n",
    "            \n",
    "    text = y[:]\n",
    "    y.clear()\n",
    "    #to remove stop words and punctuations\n",
    "    for i in text:\n",
    "        if i not in stopwords.words('english') and i not in string.punctuation:\n",
    "            y.append(i)\n",
    "    text = y[:]\n",
    "    y.clear()\n",
    "    # for stemming\n",
    "    for i in text:\n",
    "        y.append(ps.stem(i))\n",
    "    \n",
    "    return \" \".join(y)"
   ]
  },
  {
   "cell_type": "code",
   "execution_count": 93,
   "id": "05765774",
   "metadata": {},
   "outputs": [
    {
     "name": "stderr",
     "output_type": "stream",
     "text": [
      "[nltk_data] Downloading package stopwords to\n",
      "[nltk_data]     C:\\Users\\HP\\AppData\\Roaming\\nltk_data...\n",
      "[nltk_data]   Package stopwords is already up-to-date!\n"
     ]
    },
    {
     "data": {
      "text/plain": [
       "True"
      ]
     },
     "execution_count": 93,
     "metadata": {},
     "output_type": "execute_result"
    }
   ],
   "source": [
    "#now to get the stop word \n",
    "nltk.download('stopwords')"
   ]
  },
  {
   "cell_type": "code",
   "execution_count": 18,
   "id": "b82276b4",
   "metadata": {},
   "outputs": [
    {
     "data": {
      "text/plain": [
       "['i',\n",
       " 'me',\n",
       " 'my',\n",
       " 'myself',\n",
       " 'we',\n",
       " 'our',\n",
       " 'ours',\n",
       " 'ourselves',\n",
       " 'you',\n",
       " \"you're\",\n",
       " \"you've\",\n",
       " \"you'll\",\n",
       " \"you'd\",\n",
       " 'your',\n",
       " 'yours',\n",
       " 'yourself',\n",
       " 'yourselves',\n",
       " 'he',\n",
       " 'him',\n",
       " 'his',\n",
       " 'himself',\n",
       " 'she',\n",
       " \"she's\",\n",
       " 'her',\n",
       " 'hers',\n",
       " 'herself',\n",
       " 'it',\n",
       " \"it's\",\n",
       " 'its',\n",
       " 'itself',\n",
       " 'they',\n",
       " 'them',\n",
       " 'their',\n",
       " 'theirs',\n",
       " 'themselves',\n",
       " 'what',\n",
       " 'which',\n",
       " 'who',\n",
       " 'whom',\n",
       " 'this',\n",
       " 'that',\n",
       " \"that'll\",\n",
       " 'these',\n",
       " 'those',\n",
       " 'am',\n",
       " 'is',\n",
       " 'are',\n",
       " 'was',\n",
       " 'were',\n",
       " 'be',\n",
       " 'been',\n",
       " 'being',\n",
       " 'have',\n",
       " 'has',\n",
       " 'had',\n",
       " 'having',\n",
       " 'do',\n",
       " 'does',\n",
       " 'did',\n",
       " 'doing',\n",
       " 'a',\n",
       " 'an',\n",
       " 'the',\n",
       " 'and',\n",
       " 'but',\n",
       " 'if',\n",
       " 'or',\n",
       " 'because',\n",
       " 'as',\n",
       " 'until',\n",
       " 'while',\n",
       " 'of',\n",
       " 'at',\n",
       " 'by',\n",
       " 'for',\n",
       " 'with',\n",
       " 'about',\n",
       " 'against',\n",
       " 'between',\n",
       " 'into',\n",
       " 'through',\n",
       " 'during',\n",
       " 'before',\n",
       " 'after',\n",
       " 'above',\n",
       " 'below',\n",
       " 'to',\n",
       " 'from',\n",
       " 'up',\n",
       " 'down',\n",
       " 'in',\n",
       " 'out',\n",
       " 'on',\n",
       " 'off',\n",
       " 'over',\n",
       " 'under',\n",
       " 'again',\n",
       " 'further',\n",
       " 'then',\n",
       " 'once',\n",
       " 'here',\n",
       " 'there',\n",
       " 'when',\n",
       " 'where',\n",
       " 'why',\n",
       " 'how',\n",
       " 'all',\n",
       " 'any',\n",
       " 'both',\n",
       " 'each',\n",
       " 'few',\n",
       " 'more',\n",
       " 'most',\n",
       " 'other',\n",
       " 'some',\n",
       " 'such',\n",
       " 'no',\n",
       " 'nor',\n",
       " 'not',\n",
       " 'only',\n",
       " 'own',\n",
       " 'same',\n",
       " 'so',\n",
       " 'than',\n",
       " 'too',\n",
       " 'very',\n",
       " 's',\n",
       " 't',\n",
       " 'can',\n",
       " 'will',\n",
       " 'just',\n",
       " 'don',\n",
       " \"don't\",\n",
       " 'should',\n",
       " \"should've\",\n",
       " 'now',\n",
       " 'd',\n",
       " 'll',\n",
       " 'm',\n",
       " 'o',\n",
       " 're',\n",
       " 've',\n",
       " 'y',\n",
       " 'ain',\n",
       " 'aren',\n",
       " \"aren't\",\n",
       " 'couldn',\n",
       " \"couldn't\",\n",
       " 'didn',\n",
       " \"didn't\",\n",
       " 'doesn',\n",
       " \"doesn't\",\n",
       " 'hadn',\n",
       " \"hadn't\",\n",
       " 'hasn',\n",
       " \"hasn't\",\n",
       " 'haven',\n",
       " \"haven't\",\n",
       " 'isn',\n",
       " \"isn't\",\n",
       " 'ma',\n",
       " 'mightn',\n",
       " \"mightn't\",\n",
       " 'mustn',\n",
       " \"mustn't\",\n",
       " 'needn',\n",
       " \"needn't\",\n",
       " 'shan',\n",
       " \"shan't\",\n",
       " 'shouldn',\n",
       " \"shouldn't\",\n",
       " 'wasn',\n",
       " \"wasn't\",\n",
       " 'weren',\n",
       " \"weren't\",\n",
       " 'won',\n",
       " \"won't\",\n",
       " 'wouldn',\n",
       " \"wouldn't\"]"
      ]
     },
     "execution_count": 18,
     "metadata": {},
     "output_type": "execute_result"
    }
   ],
   "source": [
    "#now to get the stop word which we have to remove are\n",
    "from nltk.corpus import stopwords\n",
    "stopwords.words('english')"
   ]
  },
  {
   "cell_type": "code",
   "execution_count": 19,
   "id": "c259c2f9",
   "metadata": {},
   "outputs": [
    {
     "data": {
      "text/plain": [
       "'!\"#$%&\\'()*+,-./:;<=>?@[\\\\]^_`{|}~'"
      ]
     },
     "execution_count": 19,
     "metadata": {},
     "output_type": "execute_result"
    }
   ],
   "source": [
    "#for punctuation\n",
    "import string \n",
    "string.punctuation"
   ]
  },
  {
   "cell_type": "code",
   "execution_count": 20,
   "id": "4ca4278b",
   "metadata": {},
   "outputs": [
    {
     "data": {
      "text/plain": [
       "'love'"
      ]
     },
     "execution_count": 20,
     "metadata": {},
     "output_type": "execute_result"
    }
   ],
   "source": [
    "#now for stemming\n",
    "from nltk.stem.porter import PorterStemmer\n",
    "ps = PorterStemmer()\n",
    "ps.stem('loving')"
   ]
  },
  {
   "cell_type": "code",
   "execution_count": 21,
   "id": "7e29cb4a",
   "metadata": {},
   "outputs": [
    {
     "data": {
      "text/plain": [
       "\"Subject: enron methanol ; meter # : 988291\\r\\nthis is a follow up to the note i gave you on monday , 4 / 3 / 00 { preliminary\\r\\nflow data provided by daren } .\\r\\nplease override pop ' s daily volume { presently zero } to reflect daily\\r\\nactivity you can obtain from gas control .\\r\\nthis change is needed asap for economics purposes .\""
      ]
     },
     "execution_count": 21,
     "metadata": {},
     "output_type": "execute_result"
    }
   ],
   "source": [
    "df['text'][0]"
   ]
  },
  {
   "cell_type": "code",
   "execution_count": 22,
   "id": "24d76496",
   "metadata": {},
   "outputs": [
    {
     "data": {
      "text/plain": [
       "'subject enron methanol meter 988291 follow note gave monday 4 3 00 preliminari flow data provid daren pleas overrid pop daili volum present zero reflect daili activ obtain ga control chang need asap econom purpos'"
      ]
     },
     "execution_count": 22,
     "metadata": {},
     "output_type": "execute_result"
    }
   ],
   "source": [
    "# checking the function\n",
    "transform_text(\"Subject: enron methanol ; meter # : 988291\\r\\nthis is a follow up to the note i gave you on monday , 4 / 3 / 00 { preliminary\\r\\nflow data provided by daren } .\\r\\nplease override pop ' s daily volume { presently zero } to reflect daily\\r\\nactivity you can obtain from gas control .\\r\\nthis change is needed asap for economics purposes .\")"
   ]
  },
  {
   "cell_type": "code",
   "execution_count": 23,
   "id": "cfd7c313",
   "metadata": {},
   "outputs": [],
   "source": [
    "df['transformed_text']= df['text'].apply(transform_text)"
   ]
  },
  {
   "cell_type": "code",
   "execution_count": 111,
   "id": "8b982579",
   "metadata": {},
   "outputs": [],
   "source": [
    "#int above we are applying the transform_text function to our data and storing in new column transformed_data"
   ]
  },
  {
   "cell_type": "code",
   "execution_count": 110,
   "id": "d7a4b79d",
   "metadata": {},
   "outputs": [
    {
     "data": {
      "text/html": [
       "<div>\n",
       "<style scoped>\n",
       "    .dataframe tbody tr th:only-of-type {\n",
       "        vertical-align: middle;\n",
       "    }\n",
       "\n",
       "    .dataframe tbody tr th {\n",
       "        vertical-align: top;\n",
       "    }\n",
       "\n",
       "    .dataframe thead th {\n",
       "        text-align: right;\n",
       "    }\n",
       "</style>\n",
       "<table border=\"1\" class=\"dataframe\">\n",
       "  <thead>\n",
       "    <tr style=\"text-align: right;\">\n",
       "      <th></th>\n",
       "      <th>target</th>\n",
       "      <th>text</th>\n",
       "      <th>num_characters</th>\n",
       "      <th>num_word</th>\n",
       "      <th>num_sentences</th>\n",
       "      <th>transformed_text</th>\n",
       "    </tr>\n",
       "  </thead>\n",
       "  <tbody>\n",
       "    <tr>\n",
       "      <th>0</th>\n",
       "      <td>0</td>\n",
       "      <td>Subject: enron methanol ; meter # : 988291\\r\\n...</td>\n",
       "      <td>327</td>\n",
       "      <td>68</td>\n",
       "      <td>3</td>\n",
       "      <td>subject enron methanol meter 988291 follow not...</td>\n",
       "    </tr>\n",
       "    <tr>\n",
       "      <th>1</th>\n",
       "      <td>0</td>\n",
       "      <td>Subject: hpl nom for january 9 , 2001\\r\\n( see...</td>\n",
       "      <td>97</td>\n",
       "      <td>24</td>\n",
       "      <td>1</td>\n",
       "      <td>subject hpl nom januari 9 2001 see attach file...</td>\n",
       "    </tr>\n",
       "    <tr>\n",
       "      <th>2</th>\n",
       "      <td>0</td>\n",
       "      <td>Subject: neon retreat\\r\\nho ho ho , we ' re ar...</td>\n",
       "      <td>2524</td>\n",
       "      <td>551</td>\n",
       "      <td>20</td>\n",
       "      <td>subject neon retreat ho ho ho around wonder ti...</td>\n",
       "    </tr>\n",
       "    <tr>\n",
       "      <th>3</th>\n",
       "      <td>1</td>\n",
       "      <td>Subject: photoshop , windows , office . cheap ...</td>\n",
       "      <td>414</td>\n",
       "      <td>49</td>\n",
       "      <td>3</td>\n",
       "      <td>subject photoshop window offic cheap main tren...</td>\n",
       "    </tr>\n",
       "    <tr>\n",
       "      <th>4</th>\n",
       "      <td>0</td>\n",
       "      <td>Subject: re : indian springs\\r\\nthis deal is t...</td>\n",
       "      <td>336</td>\n",
       "      <td>71</td>\n",
       "      <td>3</td>\n",
       "      <td>subject indian spring deal book teco pvr reven...</td>\n",
       "    </tr>\n",
       "  </tbody>\n",
       "</table>\n",
       "</div>"
      ],
      "text/plain": [
       "   target                                               text  num_characters  \\\n",
       "0       0  Subject: enron methanol ; meter # : 988291\\r\\n...             327   \n",
       "1       0  Subject: hpl nom for january 9 , 2001\\r\\n( see...              97   \n",
       "2       0  Subject: neon retreat\\r\\nho ho ho , we ' re ar...            2524   \n",
       "3       1  Subject: photoshop , windows , office . cheap ...             414   \n",
       "4       0  Subject: re : indian springs\\r\\nthis deal is t...             336   \n",
       "\n",
       "   num_word  num_sentences                                   transformed_text  \n",
       "0        68              3  subject enron methanol meter 988291 follow not...  \n",
       "1        24              1  subject hpl nom januari 9 2001 see attach file...  \n",
       "2       551             20  subject neon retreat ho ho ho around wonder ti...  \n",
       "3        49              3  subject photoshop window offic cheap main tren...  \n",
       "4        71              3  subject indian spring deal book teco pvr reven...  "
      ]
     },
     "execution_count": 110,
     "metadata": {},
     "output_type": "execute_result"
    }
   ],
   "source": [
    "df.head()"
   ]
  },
  {
   "cell_type": "code",
   "execution_count": 114,
   "id": "a554bf06",
   "metadata": {},
   "outputs": [],
   "source": [
    "#now we will create a word cloud(highlights the important word in ham and spam)"
   ]
  },
  {
   "cell_type": "code",
   "execution_count": 117,
   "id": "24bc5471",
   "metadata": {},
   "outputs": [
    {
     "name": "stdout",
     "output_type": "stream",
     "text": [
      "Collecting package metadata (current_repodata.json): ...working... done\n",
      "Solving environment: ...working... done\n",
      "\n",
      "## Package Plan ##\n",
      "\n",
      "  environment location: C:\\Users\\HP\\anaconda3\n",
      "\n",
      "  added / updated specs:\n",
      "    - wordcloud\n",
      "\n",
      "\n",
      "The following packages will be downloaded:\n",
      "\n",
      "    package                    |            build\n",
      "    ---------------------------|-----------------\n",
      "    conda-4.13.0               |   py39hcbf5309_1         1.0 MB  conda-forge\n",
      "    python_abi-3.9             |           2_cp39           4 KB  conda-forge\n",
      "    wordcloud-1.8.1            |   py39hb82d6ee_2         196 KB  conda-forge\n",
      "    ------------------------------------------------------------\n",
      "                                           Total:         1.2 MB\n",
      "\n",
      "The following NEW packages will be INSTALLED:\n",
      "\n",
      "  python_abi         conda-forge/win-64::python_abi-3.9-2_cp39\n",
      "  wordcloud          conda-forge/win-64::wordcloud-1.8.1-py39hb82d6ee_2\n",
      "\n",
      "The following packages will be UPDATED:\n",
      "\n",
      "  conda              pkgs/main::conda-4.13.0-py39haa95532_0 --> conda-forge::conda-4.13.0-py39hcbf5309_1\n",
      "\n",
      "\n",
      "\n",
      "Downloading and Extracting Packages\n",
      "\n",
      "conda-4.13.0         | 1.0 MB    |            |   0% \n",
      "conda-4.13.0         | 1.0 MB    | #7         |  17% \n",
      "conda-4.13.0         | 1.0 MB    | ########## | 100% \n",
      "conda-4.13.0         | 1.0 MB    | ########## | 100% \n",
      "\n",
      "python_abi-3.9       | 4 KB      |            |   0% \n",
      "python_abi-3.9       | 4 KB      | ########## | 100% \n",
      "\n",
      "wordcloud-1.8.1      | 196 KB    |            |   0% \n",
      "wordcloud-1.8.1      | 196 KB    | ########## | 100% \n",
      "Preparing transaction: ...working... done\n",
      "Verifying transaction: ...working... done\n",
      "Executing transaction: ...working... done\n",
      "\n",
      "Note: you may need to restart the kernel to use updated packages.\n"
     ]
    }
   ],
   "source": [
    "conda install -c conda-forge wordcloud"
   ]
  },
  {
   "cell_type": "code",
   "execution_count": 23,
   "id": "3fb37110",
   "metadata": {},
   "outputs": [],
   "source": [
    "from wordcloud import WordCloud\n",
    "wc = WordCloud(width=500,height=500, min_font_size=10, background_color='white')"
   ]
  },
  {
   "cell_type": "code",
   "execution_count": 121,
   "id": "90f1d457",
   "metadata": {},
   "outputs": [],
   "source": [
    "spam_wc = wc.generate(df[df['target']==1]['transformed_text'].str.cat(sep=\" \"))"
   ]
  },
  {
   "cell_type": "code",
   "execution_count": 122,
   "id": "edd7d502",
   "metadata": {},
   "outputs": [
    {
     "data": {
      "text/plain": [
       "<matplotlib.image.AxesImage at 0x15d56d65670>"
      ]
     },
     "execution_count": 122,
     "metadata": {},
     "output_type": "execute_result"
    },
    {
     "data": {
      "image/png": "[encoded data removed]",
      "text/plain": [
       "<Figure size 432x288 with 1 Axes>"
      ]
     },
     "metadata": {
      "needs_background": "light"
     },
     "output_type": "display_data"
    }
   ],
   "source": [
    "plt.imshow(spam_wc)"
   ]
  },
  {
   "cell_type": "code",
   "execution_count": 123,
   "id": "c93e191a",
   "metadata": {},
   "outputs": [],
   "source": [
    "ham_wc = wc.generate(df[df['target']==0]['transformed_text'].str.cat(sep=\" \"))"
   ]
  },
  {
   "cell_type": "code",
   "execution_count": 124,
   "id": "260790e5",
   "metadata": {},
   "outputs": [
    {
     "data": {
      "text/plain": [
       "<matplotlib.image.AxesImage at 0x15d584c5220>"
      ]
     },
     "execution_count": 124,
     "metadata": {},
     "output_type": "execute_result"
    },
    {
     "data": {
      "image/png": "[encoded data removed]",
      "text/plain": [
       "<Figure size 432x288 with 1 Axes>"
      ]
     },
     "metadata": {
      "needs_background": "light"
     },
     "output_type": "display_data"
    }
   ],
   "source": [
    "plt.imshow(ham_wc)"
   ]
  },
  {
   "cell_type": "code",
   "execution_count": 126,
   "id": "425d9562",
   "metadata": {},
   "outputs": [
    {
     "data": {
      "text/html": [
       "<div>\n",
       "<style scoped>\n",
       "    .dataframe tbody tr th:only-of-type {\n",
       "        vertical-align: middle;\n",
       "    }\n",
       "\n",
       "    .dataframe tbody tr th {\n",
       "        vertical-align: top;\n",
       "    }\n",
       "\n",
       "    .dataframe thead th {\n",
       "        text-align: right;\n",
       "    }\n",
       "</style>\n",
       "<table border=\"1\" class=\"dataframe\">\n",
       "  <thead>\n",
       "    <tr style=\"text-align: right;\">\n",
       "      <th></th>\n",
       "      <th>target</th>\n",
       "      <th>text</th>\n",
       "      <th>num_characters</th>\n",
       "      <th>num_word</th>\n",
       "      <th>num_sentences</th>\n",
       "      <th>transformed_text</th>\n",
       "    </tr>\n",
       "  </thead>\n",
       "  <tbody>\n",
       "    <tr>\n",
       "      <th>0</th>\n",
       "      <td>0</td>\n",
       "      <td>Subject: enron methanol ; meter # : 988291\\r\\n...</td>\n",
       "      <td>327</td>\n",
       "      <td>68</td>\n",
       "      <td>3</td>\n",
       "      <td>subject enron methanol meter 988291 follow not...</td>\n",
       "    </tr>\n",
       "    <tr>\n",
       "      <th>1</th>\n",
       "      <td>0</td>\n",
       "      <td>Subject: hpl nom for january 9 , 2001\\r\\n( see...</td>\n",
       "      <td>97</td>\n",
       "      <td>24</td>\n",
       "      <td>1</td>\n",
       "      <td>subject hpl nom januari 9 2001 see attach file...</td>\n",
       "    </tr>\n",
       "    <tr>\n",
       "      <th>2</th>\n",
       "      <td>0</td>\n",
       "      <td>Subject: neon retreat\\r\\nho ho ho , we ' re ar...</td>\n",
       "      <td>2524</td>\n",
       "      <td>551</td>\n",
       "      <td>20</td>\n",
       "      <td>subject neon retreat ho ho ho around wonder ti...</td>\n",
       "    </tr>\n",
       "    <tr>\n",
       "      <th>3</th>\n",
       "      <td>1</td>\n",
       "      <td>Subject: photoshop , windows , office . cheap ...</td>\n",
       "      <td>414</td>\n",
       "      <td>49</td>\n",
       "      <td>3</td>\n",
       "      <td>subject photoshop window offic cheap main tren...</td>\n",
       "    </tr>\n",
       "    <tr>\n",
       "      <th>4</th>\n",
       "      <td>0</td>\n",
       "      <td>Subject: re : indian springs\\r\\nthis deal is t...</td>\n",
       "      <td>336</td>\n",
       "      <td>71</td>\n",
       "      <td>3</td>\n",
       "      <td>subject indian spring deal book teco pvr reven...</td>\n",
       "    </tr>\n",
       "  </tbody>\n",
       "</table>\n",
       "</div>"
      ],
      "text/plain": [
       "   target                                               text  num_characters  \\\n",
       "0       0  Subject: enron methanol ; meter # : 988291\\r\\n...             327   \n",
       "1       0  Subject: hpl nom for january 9 , 2001\\r\\n( see...              97   \n",
       "2       0  Subject: neon retreat\\r\\nho ho ho , we ' re ar...            2524   \n",
       "3       1  Subject: photoshop , windows , office . cheap ...             414   \n",
       "4       0  Subject: re : indian springs\\r\\nthis deal is t...             336   \n",
       "\n",
       "   num_word  num_sentences                                   transformed_text  \n",
       "0        68              3  subject enron methanol meter 988291 follow not...  \n",
       "1        24              1  subject hpl nom januari 9 2001 see attach file...  \n",
       "2       551             20  subject neon retreat ho ho ho around wonder ti...  \n",
       "3        49              3  subject photoshop window offic cheap main tren...  \n",
       "4        71              3  subject indian spring deal book teco pvr reven...  "
      ]
     },
     "execution_count": 126,
     "metadata": {},
     "output_type": "execute_result"
    }
   ],
   "source": [
    "df.head()"
   ]
  },
  {
   "cell_type": "code",
   "execution_count": 128,
   "id": "6c26b8af",
   "metadata": {},
   "outputs": [],
   "source": [
    "#now we have to get top 30 words of ham and spam"
   ]
  },
  {
   "cell_type": "code",
   "execution_count": 25,
   "id": "c16ddae7",
   "metadata": {},
   "outputs": [],
   "source": [
    "spam_corpus=[]\n",
    "for msg in df[df['target']==1]['transformed_text'].tolist():\n",
    "    for word in msg.split():\n",
    "        spam_corpus.append(word)"
   ]
  },
  {
   "cell_type": "code",
   "execution_count": 24,
   "id": "5926e165",
   "metadata": {},
   "outputs": [
    {
     "data": {
      "text/plain": [
       "197452"
      ]
     },
     "execution_count": 24,
     "metadata": {},
     "output_type": "execute_result"
    }
   ],
   "source": [
    "len(spam_corpus)"
   ]
  },
  {
   "cell_type": "code",
   "execution_count": 26,
   "id": "15fa2c59",
   "metadata": {},
   "outputs": [
    {
     "data": {
      "text/plain": [
       "[('subject', 1622),\n",
       " ('3', 1229),\n",
       " ('com', 989),\n",
       " ('http', 981),\n",
       " ('compani', 918),\n",
       " ('2', 853),\n",
       " ('price', 731),\n",
       " ('1', 710),\n",
       " ('0', 688),\n",
       " ('e', 632),\n",
       " ('www', 586),\n",
       " ('inform', 553),\n",
       " ('00', 550),\n",
       " ('get', 547),\n",
       " ('font', 515),\n",
       " ('email', 509),\n",
       " ('5', 506),\n",
       " ('td', 504),\n",
       " ('pleas', 503),\n",
       " ('secur', 499),\n",
       " ('statement', 497),\n",
       " ('4', 493),\n",
       " ('invest', 473),\n",
       " ('stock', 467),\n",
       " ('us', 466),\n",
       " ('product', 459),\n",
       " ('7', 451),\n",
       " ('time', 448),\n",
       " ('new', 427),\n",
       " ('may', 421)]"
      ]
     },
     "execution_count": 26,
     "metadata": {},
     "output_type": "execute_result"
    }
   ],
   "source": [
    "from collections import Counter\n",
    "Counter(spam_corpus).most_common(30)"
   ]
  },
  {
   "cell_type": "code",
   "execution_count": 135,
   "id": "c0910d08",
   "metadata": {},
   "outputs": [
    {
     "name": "stderr",
     "output_type": "stream",
     "text": [
      "C:\\Users\\HP\\anaconda3\\lib\\site-packages\\seaborn\\_decorators.py:36: FutureWarning: Pass the following variables as keyword args: x, y. From version 0.12, the only valid positional argument will be `data`, and passing other arguments without an explicit keyword will result in an error or misinterpretation.\n",
      "  warnings.warn(\n"
     ]
    },
    {
     "data": {
      "image/png": "[encoded data removed]",
      "text/plain": [
       "<Figure size 432x288 with 1 Axes>"
      ]
     },
     "metadata": {
      "needs_background": "light"
     },
     "output_type": "display_data"
    }
   ],
   "source": [
    "from collections import Counter\n",
    "sns.barplot(pd.DataFrame(Counter(spam_corpus).most_common(30))[0],pd.DataFrame(Counter(spam_corpus).most_common(30))[1])\n",
    "plt.xticks(rotation='vertical')\n",
    "plt.show()"
   ]
  },
  {
   "cell_type": "code",
   "execution_count": 137,
   "id": "62e8d3ad",
   "metadata": {},
   "outputs": [],
   "source": [
    "ham_corpus=[]\n",
    "for msg in df[df['target']==0]['transformed_text'].tolist():\n",
    "    for word in msg.split():\n",
    "        ham_corpus.append(word)"
   ]
  },
  {
   "cell_type": "code",
   "execution_count": 138,
   "id": "3dad6eef",
   "metadata": {},
   "outputs": [
    {
     "name": "stderr",
     "output_type": "stream",
     "text": [
      "C:\\Users\\HP\\anaconda3\\lib\\site-packages\\seaborn\\_decorators.py:36: FutureWarning: Pass the following variables as keyword args: x, y. From version 0.12, the only valid positional argument will be `data`, and passing other arguments without an explicit keyword will result in an error or misinterpretation.\n",
      "  warnings.warn(\n"
     ]
    },
    {
     "data": {
      "image/png": "[encoded data removed]",
      "text/plain": [
       "<Figure size 432x288 with 1 Axes>"
      ]
     },
     "metadata": {
      "needs_background": "light"
     },
     "output_type": "display_data"
    }
   ],
   "source": [
    "from collections import Counter\n",
    "sns.barplot(pd.DataFrame(Counter(ham_corpus).most_common(30))[0],pd.DataFrame(Counter(ham_corpus).most_common(30))[1])\n",
    "plt.xticks(rotation='vertical')\n",
    "plt.show()"
   ]
  },
  {
   "cell_type": "code",
   "execution_count": 1,
   "id": "ec8d2edc",
   "metadata": {},
   "outputs": [],
   "source": [
    "#end of data preprocessing"
   ]
  },
  {
   "cell_type": "code",
   "execution_count": 3,
   "id": "775d85be",
   "metadata": {},
   "outputs": [],
   "source": [
    "#Model making for maive bayes"
   ]
  },
  {
   "cell_type": "code",
   "execution_count": 33,
   "id": "de9fe3cb",
   "metadata": {},
   "outputs": [
    {
     "data": {
      "text/html": [
       "<div>\n",
       "<style scoped>\n",
       "    .dataframe tbody tr th:only-of-type {\n",
       "        vertical-align: middle;\n",
       "    }\n",
       "\n",
       "    .dataframe tbody tr th {\n",
       "        vertical-align: top;\n",
       "    }\n",
       "\n",
       "    .dataframe thead th {\n",
       "        text-align: right;\n",
       "    }\n",
       "</style>\n",
       "<table border=\"1\" class=\"dataframe\">\n",
       "  <thead>\n",
       "    <tr style=\"text-align: right;\">\n",
       "      <th></th>\n",
       "      <th>target</th>\n",
       "      <th>text</th>\n",
       "      <th>num_characters</th>\n",
       "      <th>num_word</th>\n",
       "      <th>num_sentences</th>\n",
       "      <th>transformed_text</th>\n",
       "    </tr>\n",
       "  </thead>\n",
       "  <tbody>\n",
       "    <tr>\n",
       "      <th>0</th>\n",
       "      <td>0</td>\n",
       "      <td>Subject: enron methanol ; meter # : 988291\\r\\n...</td>\n",
       "      <td>327</td>\n",
       "      <td>68</td>\n",
       "      <td>3</td>\n",
       "      <td>subject enron methanol meter 988291 follow not...</td>\n",
       "    </tr>\n",
       "    <tr>\n",
       "      <th>1</th>\n",
       "      <td>0</td>\n",
       "      <td>Subject: hpl nom for january 9 , 2001\\r\\n( see...</td>\n",
       "      <td>97</td>\n",
       "      <td>24</td>\n",
       "      <td>1</td>\n",
       "      <td>subject hpl nom januari 9 2001 see attach file...</td>\n",
       "    </tr>\n",
       "    <tr>\n",
       "      <th>2</th>\n",
       "      <td>0</td>\n",
       "      <td>Subject: neon retreat\\r\\nho ho ho , we ' re ar...</td>\n",
       "      <td>2524</td>\n",
       "      <td>551</td>\n",
       "      <td>20</td>\n",
       "      <td>subject neon retreat ho ho ho around wonder ti...</td>\n",
       "    </tr>\n",
       "    <tr>\n",
       "      <th>3</th>\n",
       "      <td>1</td>\n",
       "      <td>Subject: photoshop , windows , office . cheap ...</td>\n",
       "      <td>414</td>\n",
       "      <td>49</td>\n",
       "      <td>3</td>\n",
       "      <td>subject photoshop window offic cheap main tren...</td>\n",
       "    </tr>\n",
       "    <tr>\n",
       "      <th>4</th>\n",
       "      <td>0</td>\n",
       "      <td>Subject: re : indian springs\\r\\nthis deal is t...</td>\n",
       "      <td>336</td>\n",
       "      <td>71</td>\n",
       "      <td>3</td>\n",
       "      <td>subject indian spring deal book teco pvr reven...</td>\n",
       "    </tr>\n",
       "  </tbody>\n",
       "</table>\n",
       "</div>"
      ],
      "text/plain": [
       "   target                                               text  num_characters  \\\n",
       "0       0  Subject: enron methanol ; meter # : 988291\\r\\n...             327   \n",
       "1       0  Subject: hpl nom for january 9 , 2001\\r\\n( see...              97   \n",
       "2       0  Subject: neon retreat\\r\\nho ho ho , we ' re ar...            2524   \n",
       "3       1  Subject: photoshop , windows , office . cheap ...             414   \n",
       "4       0  Subject: re : indian springs\\r\\nthis deal is t...             336   \n",
       "\n",
       "   num_word  num_sentences                                   transformed_text  \n",
       "0        68              3  subject enron methanol meter 988291 follow not...  \n",
       "1        24              1  subject hpl nom januari 9 2001 see attach file...  \n",
       "2       551             20  subject neon retreat ho ho ho around wonder ti...  \n",
       "3        49              3  subject photoshop window offic cheap main tren...  \n",
       "4        71              3  subject indian spring deal book teco pvr reven...  "
      ]
     },
     "execution_count": 33,
     "metadata": {},
     "output_type": "execute_result"
    }
   ],
   "source": [
    "df.head()"
   ]
  },
  {
   "cell_type": "code",
   "execution_count": 27,
   "id": "496c545a",
   "metadata": {},
   "outputs": [],
   "source": [
    "from sklearn.feature_extraction.text import CountVectorizer,TfidfVectorizer\n",
    "cv = CountVectorizer()\n",
    "tfidf = TfidfVectorizer()"
   ]
  },
  {
   "cell_type": "code",
   "execution_count": null,
   "id": "f35d20aa",
   "metadata": {},
   "outputs": [],
   "source": [
    "#first we will vectorise the tarnsformed text"
   ]
  },
  {
   "cell_type": "code",
   "execution_count": 29,
   "id": "93e3e598",
   "metadata": {},
   "outputs": [],
   "source": [
    "X = tfidf.fit_transform(df['transformed_text']).toarray()\n",
    "X1 = cv.fit_transform(df['transformed_text']).toarray()"
   ]
  },
  {
   "cell_type": "code",
   "execution_count": 30,
   "id": "3e7a04a4",
   "metadata": {},
   "outputs": [
    {
     "data": {
      "text/plain": [
       "(4993, 42592)"
      ]
     },
     "execution_count": 30,
     "metadata": {},
     "output_type": "execute_result"
    }
   ],
   "source": [
    "X.shape"
   ]
  },
  {
   "cell_type": "code",
   "execution_count": 31,
   "id": "02462c72",
   "metadata": {},
   "outputs": [],
   "source": [
    "y =df['target'].values"
   ]
  },
  {
   "cell_type": "code",
   "execution_count": 44,
   "id": "7a749c23",
   "metadata": {},
   "outputs": [
    {
     "data": {
      "text/plain": [
       "array([0, 0, 0, ..., 0, 0, 1])"
      ]
     },
     "execution_count": 44,
     "metadata": {},
     "output_type": "execute_result"
    }
   ],
   "source": [
    "y"
   ]
  },
  {
   "cell_type": "code",
   "execution_count": 32,
   "id": "a61b5b3e",
   "metadata": {},
   "outputs": [],
   "source": [
    "from sklearn.model_selection import train_test_split"
   ]
  },
  {
   "cell_type": "code",
   "execution_count": 34,
   "id": "8571cbce",
   "metadata": {},
   "outputs": [],
   "source": [
    "X_train,X_test,y_train,y_test = train_test_split(X,y,test_size=0.2,random_state=2)#0.2 means 20% data is giving to model\n",
    "X1_train,X1_test,y_train,y_test = train_test_split(X1,y,test_size=0.2,random_state=2)"
   ]
  },
  {
   "cell_type": "code",
   "execution_count": 35,
   "id": "3359a676",
   "metadata": {},
   "outputs": [],
   "source": [
    "from sklearn.naive_bayes import GaussianNB, MultinomialNB, BernoulliNB\n",
    "from sklearn.metrics import accuracy_score, confusion_matrix, precision_score"
   ]
  },
  {
   "cell_type": "code",
   "execution_count": 36,
   "id": "85f8eecc",
   "metadata": {},
   "outputs": [],
   "source": [
    "gnb = GaussianNB()\n",
    "mnb = MultinomialNB()\n",
    "bnb = BernoulliNB()#using 3 naive bayes alogos to find the best one for the model"
   ]
  },
  {
   "cell_type": "code",
   "execution_count": 37,
   "id": "48409851",
   "metadata": {},
   "outputs": [
    {
     "name": "stdout",
     "output_type": "stream",
     "text": [
      "0.9409409409409409\n",
      "[[669  28]\n",
      " [ 31 271]]\n",
      "0.9063545150501672\n"
     ]
    }
   ],
   "source": [
    "gnb.fit(X_train, y_train)\n",
    "y_pred1 = gnb.predict(X_test)\n",
    "print(accuracy_score(y_test, y_pred1))\n",
    "print(confusion_matrix(y_test, y_pred1))\n",
    "print(precision_score(y_test,y_pred1))"
   ]
  },
  {
   "cell_type": "code",
   "execution_count": 41,
   "id": "833bf5d4",
   "metadata": {},
   "outputs": [
    {
     "name": "stdout",
     "output_type": "stream",
     "text": [
      "0.9519519519519519\n",
      "[[683  14]\n",
      " [ 34 268]]\n",
      "0.950354609929078\n"
     ]
    }
   ],
   "source": [
    "gnb.fit(X1_train, y_train)\n",
    "y_pred1 = gnb.predict(X1_test)\n",
    "print(accuracy_score(y_test, y_pred1))\n",
    "print(confusion_matrix(y_test, y_pred1))\n",
    "print(precision_score(y_test,y_pred1))"
   ]
  },
  {
   "cell_type": "code",
   "execution_count": 39,
   "id": "8214a14b",
   "metadata": {},
   "outputs": [
    {
     "name": "stdout",
     "output_type": "stream",
     "text": [
      "0.908908908908909\n",
      "[[696   1]\n",
      " [ 90 212]]\n",
      "0.9953051643192489\n"
     ]
    }
   ],
   "source": [
    "mnb.fit(X_train, y_train)\n",
    "y_pred2 = mnb.predict(X_test)\n",
    "print(accuracy_score(y_test, y_pred2))\n",
    "print(confusion_matrix(y_test, y_pred2))\n",
    "print(precision_score(y_test,y_pred2))#it has best precision "
   ]
  },
  {
   "cell_type": "code",
   "execution_count": 44,
   "id": "a1f365e2",
   "metadata": {},
   "outputs": [
    {
     "name": "stdout",
     "output_type": "stream",
     "text": [
      "0.970970970970971\n",
      "[[680  17]\n",
      " [ 12 290]]\n",
      "0.9446254071661238\n"
     ]
    }
   ],
   "source": [
    "mnb.fit(X1_train, y_train)\n",
    "y_pred2 = mnb.predict(X1_test)\n",
    "print(accuracy_score(y_test, y_pred2))\n",
    "print(confusion_matrix(y_test, y_pred2))\n",
    "print(precision_score(y_test,y_pred2))"
   ]
  },
  {
   "cell_type": "code",
   "execution_count": 45,
   "id": "1afc8528",
   "metadata": {},
   "outputs": [
    {
     "name": "stdout",
     "output_type": "stream",
     "text": [
      "0.8468468468468469\n",
      "[[677  20]\n",
      " [133 169]]\n",
      "0.8941798941798942\n"
     ]
    }
   ],
   "source": [
    "bnb.fit(X_train, y_train)\n",
    "y_pred3 = bnb.predict(X_test)\n",
    "print(accuracy_score(y_test, y_pred3))\n",
    "print(confusion_matrix(y_test, y_pred3))\n",
    "print(precision_score(y_test,y_pred3))"
   ]
  },
  {
   "cell_type": "code",
   "execution_count": 46,
   "id": "38ca9ab8",
   "metadata": {},
   "outputs": [
    {
     "name": "stdout",
     "output_type": "stream",
     "text": [
      "0.8468468468468469\n",
      "[[677  20]\n",
      " [133 169]]\n",
      "0.8941798941798942\n"
     ]
    }
   ],
   "source": [
    "bnb.fit(X1_train, y_train)\n",
    "y_pred3 = bnb.predict(X1_test)\n",
    "print(accuracy_score(y_test, y_pred3))\n",
    "print(confusion_matrix(y_test, y_pred3))\n",
    "print(precision_score(y_test,y_pred3))"
   ]
  },
  {
   "cell_type": "code",
   "execution_count": 1,
   "id": "c5184608",
   "metadata": {},
   "outputs": [],
   "source": [
    "#tfidf = mnb has best precision"
   ]
  },
  {
   "cell_type": "code",
   "execution_count": 36,
   "id": "b7059233",
   "metadata": {},
   "outputs": [
    {
     "data": {
      "text/html": [
       "<div>\n",
       "<style scoped>\n",
       "    .dataframe tbody tr th:only-of-type {\n",
       "        vertical-align: middle;\n",
       "    }\n",
       "\n",
       "    .dataframe tbody tr th {\n",
       "        vertical-align: top;\n",
       "    }\n",
       "\n",
       "    .dataframe thead th {\n",
       "        text-align: right;\n",
       "    }\n",
       "</style>\n",
       "<table border=\"1\" class=\"dataframe\">\n",
       "  <thead>\n",
       "    <tr style=\"text-align: right;\">\n",
       "      <th></th>\n",
       "      <th>target</th>\n",
       "      <th>text</th>\n",
       "      <th>num_characters</th>\n",
       "      <th>num_word</th>\n",
       "      <th>num_sentences</th>\n",
       "      <th>transformed_text</th>\n",
       "    </tr>\n",
       "  </thead>\n",
       "  <tbody>\n",
       "    <tr>\n",
       "      <th>0</th>\n",
       "      <td>0</td>\n",
       "      <td>Subject: enron methanol ; meter # : 988291\\r\\n...</td>\n",
       "      <td>327</td>\n",
       "      <td>68</td>\n",
       "      <td>3</td>\n",
       "      <td>subject enron methanol meter 988291 follow not...</td>\n",
       "    </tr>\n",
       "    <tr>\n",
       "      <th>1</th>\n",
       "      <td>0</td>\n",
       "      <td>Subject: hpl nom for january 9 , 2001\\r\\n( see...</td>\n",
       "      <td>97</td>\n",
       "      <td>24</td>\n",
       "      <td>1</td>\n",
       "      <td>subject hpl nom januari 9 2001 see attach file...</td>\n",
       "    </tr>\n",
       "    <tr>\n",
       "      <th>2</th>\n",
       "      <td>0</td>\n",
       "      <td>Subject: neon retreat\\r\\nho ho ho , we ' re ar...</td>\n",
       "      <td>2524</td>\n",
       "      <td>551</td>\n",
       "      <td>20</td>\n",
       "      <td>subject neon retreat ho ho ho around wonder ti...</td>\n",
       "    </tr>\n",
       "    <tr>\n",
       "      <th>3</th>\n",
       "      <td>1</td>\n",
       "      <td>Subject: photoshop , windows , office . cheap ...</td>\n",
       "      <td>414</td>\n",
       "      <td>49</td>\n",
       "      <td>3</td>\n",
       "      <td>subject photoshop window offic cheap main tren...</td>\n",
       "    </tr>\n",
       "    <tr>\n",
       "      <th>4</th>\n",
       "      <td>0</td>\n",
       "      <td>Subject: re : indian springs\\r\\nthis deal is t...</td>\n",
       "      <td>336</td>\n",
       "      <td>71</td>\n",
       "      <td>3</td>\n",
       "      <td>subject indian spring deal book teco pvr reven...</td>\n",
       "    </tr>\n",
       "  </tbody>\n",
       "</table>\n",
       "</div>"
      ],
      "text/plain": [
       "   target                                               text  num_characters  \\\n",
       "0       0  Subject: enron methanol ; meter # : 988291\\r\\n...             327   \n",
       "1       0  Subject: hpl nom for january 9 , 2001\\r\\n( see...              97   \n",
       "2       0  Subject: neon retreat\\r\\nho ho ho , we ' re ar...            2524   \n",
       "3       1  Subject: photoshop , windows , office . cheap ...             414   \n",
       "4       0  Subject: re : indian springs\\r\\nthis deal is t...             336   \n",
       "\n",
       "   num_word  num_sentences                                   transformed_text  \n",
       "0        68              3  subject enron methanol meter 988291 follow not...  \n",
       "1        24              1  subject hpl nom januari 9 2001 see attach file...  \n",
       "2       551             20  subject neon retreat ho ho ho around wonder ti...  \n",
       "3        49              3  subject photoshop window offic cheap main tren...  \n",
       "4        71              3  subject indian spring deal book teco pvr reven...  "
      ]
     },
     "execution_count": 36,
     "metadata": {},
     "output_type": "execute_result"
    }
   ],
   "source": [
    "df.head()"
   ]
  },
  {
   "cell_type": "code",
   "execution_count": 37,
   "id": "9fb4402f",
   "metadata": {},
   "outputs": [],
   "source": [
    "#for decision tree"
   ]
  },
  {
   "cell_type": "code",
   "execution_count": 42,
   "id": "3bf59484",
   "metadata": {},
   "outputs": [],
   "source": [
    "#for svm"
   ]
  },
  {
   "cell_type": "code",
   "execution_count": 44,
   "id": "cafe2a52",
   "metadata": {},
   "outputs": [],
   "source": [
    "#for XG boost"
   ]
  },
  {
   "cell_type": "code",
   "execution_count": 47,
   "id": "0024886e",
   "metadata": {
    "scrolled": true
   },
   "outputs": [
    {
     "name": "stdout",
     "output_type": "stream",
     "text": [
      "Collecting package metadata (current_repodata.json): ...working... done\n",
      "Note: you may need to restart the kernel to use updated packages.\n",
      "\n",
      "Solving environment: ...working... done\n",
      "\n",
      "## Package Plan ##\n",
      "\n",
      "  environment location: C:\\Users\\HP\\anaconda3\n",
      "\n",
      "  added / updated specs:\n",
      "    - py-xgboost\n",
      "\n",
      "\n",
      "The following packages will be downloaded:\n",
      "\n",
      "    package                    |            build\n",
      "    ---------------------------|-----------------\n",
      "    _py-xgboost-mutex-2.0      |            cpu_0          12 KB  anaconda\n",
      "    certifi-2021.10.8          |   py39haa95532_2         156 KB  anaconda\n",
      "    libxgboost-1.5.0           |       hd77b12b_1         2.3 MB  anaconda\n",
      "    openssl-1.1.1n             |       h2bbff1b_0         5.8 MB  anaconda\n",
      "    py-xgboost-1.5.0           |   py39haa95532_1         166 KB  anaconda\n",
      "    ------------------------------------------------------------\n",
      "                                           Total:         8.4 MB\n",
      "\n",
      "The following NEW packages will be INSTALLED:\n",
      "\n",
      "  _py-xgboost-mutex  anaconda/win-64::_py-xgboost-mutex-2.0-cpu_0\n",
      "  libxgboost         anaconda/win-64::libxgboost-1.5.0-hd77b12b_1\n",
      "  py-xgboost         anaconda/win-64::py-xgboost-1.5.0-py39haa95532_1\n",
      "\n",
      "The following packages will be SUPERSEDED by a higher-priority channel:\n",
      "\n",
      "  certifi                                         pkgs/main --> anaconda\n",
      "  openssl                                         pkgs/main --> anaconda\n",
      "\n",
      "\n",
      "\n",
      "Downloading and Extracting Packages\n",
      "\n",
      "_py-xgboost-mutex-2. | 12 KB     |            |   0% \n",
      "_py-xgboost-mutex-2. | 12 KB     | ########## | 100% \n",
      "_py-xgboost-mutex-2. | 12 KB     | ########## | 100% \n",
      "\n",
      "libxgboost-1.5.0     | 2.3 MB    |            |   0% \n",
      "libxgboost-1.5.0     | 2.3 MB    | ####6      |  46% \n",
      "libxgboost-1.5.0     | 2.3 MB    | #########2 |  93% \n",
      "libxgboost-1.5.0     | 2.3 MB    | ########## | 100% \n",
      "\n",
      "py-xgboost-1.5.0     | 166 KB    |            |   0% \n",
      "py-xgboost-1.5.0     | 166 KB    | ########## | 100% \n",
      "py-xgboost-1.5.0     | 166 KB    | ########## | 100% \n",
      "\n",
      "openssl-1.1.1n       | 5.8 MB    |            |   0% \n",
      "openssl-1.1.1n       | 5.8 MB    | 7          |   8% \n",
      "openssl-1.1.1n       | 5.8 MB    | ##8        |  28% \n",
      "openssl-1.1.1n       | 5.8 MB    | ####6      |  46% \n",
      "openssl-1.1.1n       | 5.8 MB    | #######1   |  71% \n",
      "openssl-1.1.1n       | 5.8 MB    | #########  |  91% \n",
      "openssl-1.1.1n       | 5.8 MB    | ########## | 100% \n",
      "\n",
      "certifi-2021.10.8    | 156 KB    |            |   0% \n",
      "certifi-2021.10.8    | 156 KB    | ########## | 100% \n",
      "certifi-2021.10.8    | 156 KB    | ########## | 100% \n",
      "Preparing transaction: ...working... done\n",
      "Verifying transaction: ...working... done\n",
      "Executing transaction: ...working... done\n"
     ]
    }
   ],
   "source": [
    "conda install -c anaconda py-xgboost"
   ]
  },
  {
   "cell_type": "code",
   "execution_count": 47,
   "id": "cbbf41fe",
   "metadata": {},
   "outputs": [
    {
     "name": "stderr",
     "output_type": "stream",
     "text": [
      "C:\\Users\\HP\\anaconda3\\lib\\site-packages\\xgboost\\compat.py:36: FutureWarning: pandas.Int64Index is deprecated and will be removed from pandas in a future version. Use pandas.Index with the appropriate dtype instead.\n",
      "  from pandas import MultiIndex, Int64Index\n"
     ]
    }
   ],
   "source": [
    "from sklearn.linear_model import LogisticRegression\n",
    "from sklearn.svm import SVC\n",
    "from sklearn.naive_bayes import MultinomialNB\n",
    "from sklearn.tree import DecisionTreeClassifier\n",
    "from sklearn.neighbors import KNeighborsClassifier\n",
    "from sklearn.ensemble import RandomForestClassifier\n",
    "from sklearn.ensemble import AdaBoostClassifier\n",
    "from sklearn.ensemble import BaggingClassifier\n",
    "from sklearn.ensemble import ExtraTreesClassifier\n",
    "from sklearn.ensemble import GradientBoostingClassifier\n",
    "from xgboost import XGBClassifier"
   ]
  },
  {
   "cell_type": "code",
   "execution_count": 48,
   "id": "99992d49",
   "metadata": {},
   "outputs": [],
   "source": [
    "svc = SVC(kernel='sigmoid',gamma=1.0)\n",
    "knc = KNeighborsClassifier()\n",
    "mnb = MultinomialNB()\n",
    "dtc = DecisionTreeClassifier(max_depth=5)\n",
    "lrc = LogisticRegression(solver='liblinear',penalty='l1')\n",
    "rfc = RandomForestClassifier(n_estimators=50, random_state=2)\n",
    "abc = AdaBoostClassifier(n_estimators=50, random_state=2)\n",
    "bc = BaggingClassifier(n_estimators=50, random_state=2)\n",
    "etc = ExtraTreesClassifier(n_estimators=50, random_state=2)\n",
    "gbdt = GradientBoostingClassifier(n_estimators=50, random_state=2)\n",
    "xgb = XGBClassifier(n_estimators=50, random_state=2)"
   ]
  },
  {
   "cell_type": "code",
   "execution_count": 40,
   "id": "24e28fa0",
   "metadata": {},
   "outputs": [
    {
     "name": "stdout",
     "output_type": "stream",
     "text": [
      "Collecting package metadata (current_repodata.json): ...working... done\n",
      "Solving environment: ...working... \n",
      "Warning: 4 possible package resolutions (only showing differing packages):\n",
      "  - anaconda/win-64::certifi-2021.10.8-py39haa95532_2, anaconda/win-64::openssl-1.1.1n-h2bbff1b_0\n",
      "  - anaconda/win-64::certifi-2021.10.8-py39haa95532_2, defaults/win-64::openssl-1.1.1n-h2bbff1b_0\n",
      "  - anaconda/win-64::openssl-1.1.1n-h2bbff1b_0, defaults/win-64::certifi-2021.10.8-py39haa95532_2\n",
      "  - defaults/win-64::certifi-2021.10.8-py39haa95532_2, defaults/win-64::openssl-1.1.1n-h2bbff1b_0done\n",
      "\n",
      "## Package Plan ##\n",
      "\n",
      "  environment location: C:\\Users\\HP\\anaconda3\n",
      "\n",
      "  added / updated specs:\n",
      "    - r-tree\n",
      "\n",
      "\n",
      "The following packages will be downloaded:\n",
      "\n",
      "    package                    |            build\n",
      "    ---------------------------|-----------------\n",
      "    _r-mutex-1.0.1             |      anacondar_1           3 KB  conda-forge\n",
      "    libblas-3.9.0              |1_h8933c1f_netlib         193 KB  conda-forge\n",
      "    liblapack-3.9.0            |5_hd5c7e75_netlib         2.7 MB  conda-forge\n",
      "    m2w64-bwidget-1.9.10       |                2         155 KB  conda-forge\n",
      "    m2w64-bzip2-1.0.6          |                6         102 KB  conda-forge\n",
      "    m2w64-expat-2.1.1          |                2         161 KB  conda-forge\n",
      "    m2w64-fftw-3.3.4           |                6         5.4 MB  conda-forge\n",
      "    m2w64-flac-1.3.1           |                3         953 KB  conda-forge\n",
      "    m2w64-gcc-libgfortran-5.3.0|                6         342 KB  conda-forge\n",
      "    m2w64-gcc-libs-5.3.0       |                7         520 KB  conda-forge\n",
      "    m2w64-gcc-libs-core-5.3.0  |                7         214 KB  conda-forge\n",
      "    m2w64-gettext-0.19.7       |                2         4.0 MB  conda-forge\n",
      "    m2w64-gmp-6.1.0            |                2         726 KB  conda-forge\n",
      "    m2w64-gsl-2.1              |                2         2.4 MB  conda-forge\n",
      "    m2w64-libiconv-1.14        |                6         1.5 MB  conda-forge\n",
      "    m2w64-libjpeg-turbo-1.4.2  |                3         651 KB  conda-forge\n",
      "    m2w64-libogg-1.3.2         |                3         207 KB  conda-forge\n",
      "    m2w64-libpng-1.6.21        |                2         431 KB  conda-forge\n",
      "    m2w64-libsndfile-1.0.26    |                2         555 KB  conda-forge\n",
      "    m2w64-libtiff-4.0.6        |                2         1.2 MB  conda-forge\n",
      "    m2w64-libvorbis-1.3.5      |                2         537 KB  conda-forge\n",
      "    m2w64-libxml2-2.9.3        |                3         2.1 MB  conda-forge\n",
      "    m2w64-mpfr-3.1.4           |                4         294 KB  conda-forge\n",
      "    m2w64-pcre2-10.34          |                0         1.5 MB  conda-forge\n",
      "    m2w64-speex-1.2rc2         |                3         610 KB  conda-forge\n",
      "    m2w64-speexdsp-1.2rc3      |                3         516 KB  conda-forge\n",
      "    m2w64-tcl-8.6.5            |                3         3.7 MB  conda-forge\n",
      "    m2w64-tk-8.6.5             |                3         2.2 MB  conda-forge\n",
      "    m2w64-tktable-2.10         |                5         113 KB  conda-forge\n",
      "    m2w64-wineditline-2.101    |                5          48 KB  conda-forge\n",
      "    m2w64-xz-5.2.2             |                2         379 KB  conda-forge\n",
      "    m2w64-zlib-1.2.8           |               10         199 KB  conda-forge\n",
      "    r-base-4.1.3               |       hddad469_1        55.3 MB  conda-forge\n",
      "    r-tree-1.0_42              |    r41h6d2157b_0         180 KB  conda-forge\n",
      "    ------------------------------------------------------------\n",
      "                                           Total:        90.0 MB\n",
      "\n",
      "The following NEW packages will be INSTALLED:\n",
      "\n",
      "  _r-mutex           conda-forge/noarch::_r-mutex-1.0.1-anacondar_1\n",
      "  libblas            conda-forge/win-64::libblas-3.9.0-1_h8933c1f_netlib\n",
      "  liblapack          conda-forge/win-64::liblapack-3.9.0-5_hd5c7e75_netlib\n",
      "  m2w64-bwidget      conda-forge/win-64::m2w64-bwidget-1.9.10-2\n",
      "  m2w64-bzip2        conda-forge/win-64::m2w64-bzip2-1.0.6-6\n",
      "  m2w64-expat        conda-forge/win-64::m2w64-expat-2.1.1-2\n",
      "  m2w64-fftw         conda-forge/win-64::m2w64-fftw-3.3.4-6\n",
      "  m2w64-flac         conda-forge/win-64::m2w64-flac-1.3.1-3\n",
      "  m2w64-gcc-libgfor~ conda-forge/win-64::m2w64-gcc-libgfortran-5.3.0-6\n",
      "  m2w64-gcc-libs     conda-forge/win-64::m2w64-gcc-libs-5.3.0-7\n",
      "  m2w64-gcc-libs-co~ conda-forge/win-64::m2w64-gcc-libs-core-5.3.0-7\n",
      "  m2w64-gettext      conda-forge/win-64::m2w64-gettext-0.19.7-2\n",
      "  m2w64-gmp          conda-forge/win-64::m2w64-gmp-6.1.0-2\n",
      "  m2w64-gsl          conda-forge/win-64::m2w64-gsl-2.1-2\n",
      "  m2w64-libiconv     conda-forge/win-64::m2w64-libiconv-1.14-6\n",
      "\n",
      "Note: you may need to restart the kernel to use updated packages.  m2w64-libjpeg-tur~ conda-forge/win-64::m2w64-libjpeg-turbo-1.4.2-3\n",
      "  m2w64-libogg       conda-forge/win-64::m2w64-libogg-1.3.2-3\n",
      "  m2w64-libpng       conda-forge/win-64::m2w64-libpng-1.6.21-2\n",
      "  m2w64-libsndfile   conda-forge/win-64::m2w64-libsndfile-1.0.26-2\n",
      "  m2w64-libtiff      conda-forge/win-64::m2w64-libtiff-4.0.6-2\n",
      "  m2w64-libvorbis    conda-forge/win-64::m2w64-libvorbis-1.3.5-2\n",
      "  m2w64-libxml2      conda-forge/win-64::m2w64-libxml2-2.9.3-3\n",
      "  m2w64-mpfr         conda-forge/win-64::m2w64-mpfr-3.1.4-4\n",
      "  m2w64-pcre2        conda-forge/win-64::m2w64-pcre2-10.34-0\n",
      "  m2w64-speex        conda-forge/win-64::m2w64-speex-1.2rc2-3\n",
      "  m2w64-speexdsp     conda-forge/win-64::m2w64-speexdsp-1.2rc3-3\n",
      "  m2w64-tcl          conda-forge/win-64::m2w64-tcl-8.6.5-3\n",
      "  m2w64-tk           conda-forge/win-64::m2w64-tk-8.6.5-3\n",
      "\n",
      "  m2w64-tktable      conda-forge/win-64::m2w64-tktable-2.10-5\n",
      "  m2w64-wineditline  conda-forge/win-64::m2w64-wineditline-2.101-5\n",
      "  m2w64-xz           conda-forge/win-64::m2w64-xz-5.2.2-2\n",
      "  m2w64-zlib         conda-forge/win-64::m2w64-zlib-1.2.8-10\n",
      "  r-base             conda-forge/win-64::r-base-4.1.3-hddad469_1\n",
      "  r-tree             conda-forge/win-64::r-tree-1.0_42-r41h6d2157b_0\n",
      "\n",
      "\n",
      "\n",
      "Downloading and Extracting Packages\n",
      "\n",
      "m2w64-gcc-libgfortra | 342 KB    |            |   0% \n",
      "m2w64-gcc-libgfortra | 342 KB    | 4          |   5% \n",
      "m2w64-gcc-libgfortra | 342 KB    | ########## | 100% \n",
      "m2w64-gcc-libgfortra | 342 KB    | ########## | 100% \n",
      "\n",
      "r-tree-1.0_42        | 180 KB    |            |   0% \n",
      "r-tree-1.0_42        | 180 KB    | 8          |   9% \n",
      "r-tree-1.0_42        | 180 KB    | ########## | 100% \n",
      "r-tree-1.0_42        | 180 KB    | ########## | 100% \n",
      "\n",
      "m2w64-gcc-libs-core- | 214 KB    |            |   0% \n",
      "m2w64-gcc-libs-core- | 214 KB    | ########## | 100% \n",
      "m2w64-gcc-libs-core- | 214 KB    | ########## | 100% \n",
      "\n",
      "m2w64-bwidget-1.9.10 | 155 KB    |            |   0% \n",
      "m2w64-bwidget-1.9.10 | 155 KB    | #          |  10% \n",
      "m2w64-bwidget-1.9.10 | 155 KB    | ########## | 100% \n",
      "m2w64-bwidget-1.9.10 | 155 KB    | ########## | 100% \n",
      "\n",
      "m2w64-speexdsp-1.2rc | 516 KB    |            |   0% \n",
      "m2w64-speexdsp-1.2rc | 516 KB    | 3          |   3% \n",
      "m2w64-speexdsp-1.2rc | 516 KB    | ########3  |  84% \n",
      "m2w64-speexdsp-1.2rc | 516 KB    | ########## | 100% \n",
      "\n",
      "libblas-3.9.0        | 193 KB    |            |   0% \n",
      "libblas-3.9.0        | 193 KB    | ########## | 100% \n",
      "libblas-3.9.0        | 193 KB    | ########## | 100% \n",
      "\n",
      "m2w64-fftw-3.3.4     | 5.4 MB    |            |   0% \n",
      "m2w64-fftw-3.3.4     | 5.4 MB    |            |   0% \n",
      "m2w64-fftw-3.3.4     | 5.4 MB    | 2          |   2% \n",
      "m2w64-fftw-3.3.4     | 5.4 MB    | 5          |   5% \n",
      "m2w64-fftw-3.3.4     | 5.4 MB    | 7          |   8% \n",
      "m2w64-fftw-3.3.4     | 5.4 MB    | #          |  10% \n",
      "m2w64-fftw-3.3.4     | 5.4 MB    | #3         |  14% \n",
      "m2w64-fftw-3.3.4     | 5.4 MB    | #6         |  16% \n",
      "m2w64-fftw-3.3.4     | 5.4 MB    | #9         |  19% \n",
      "m2w64-fftw-3.3.4     | 5.4 MB    | ##3        |  23% \n",
      "m2w64-fftw-3.3.4     | 5.4 MB    | ###        |  31% \n",
      "m2w64-fftw-3.3.4     | 5.4 MB    | ###8       |  38% \n",
      "m2w64-fftw-3.3.4     | 5.4 MB    | ####6      |  46% \n",
      "m2w64-fftw-3.3.4     | 5.4 MB    | ######2    |  63% \n",
      "m2w64-fftw-3.3.4     | 5.4 MB    | ########   |  81% \n",
      "m2w64-fftw-3.3.4     | 5.4 MB    | ########## | 100% \n",
      "m2w64-fftw-3.3.4     | 5.4 MB    | ########## | 100% \n",
      "\n",
      "m2w64-libsndfile-1.0 | 555 KB    |            |   0% \n",
      "m2w64-libsndfile-1.0 | 555 KB    | 2          |   3% \n",
      "m2w64-libsndfile-1.0 | 555 KB    | ####6      |  46% \n",
      "m2w64-libsndfile-1.0 | 555 KB    | #######7   |  78% \n",
      "m2w64-libsndfile-1.0 | 555 KB    | ########## | 100% \n",
      "\n",
      "m2w64-flac-1.3.1     | 953 KB    |            |   0% \n",
      "m2w64-flac-1.3.1     | 953 KB    | 1          |   2% \n",
      "m2w64-flac-1.3.1     | 953 KB    | ###5       |  35% \n",
      "m2w64-flac-1.3.1     | 953 KB    | ######2    |  62% \n",
      "m2w64-flac-1.3.1     | 953 KB    | ########9  |  89% \n",
      "m2w64-flac-1.3.1     | 953 KB    | ########## | 100% \n",
      "\n",
      "liblapack-3.9.0      | 2.7 MB    |            |   0% \n",
      "liblapack-3.9.0      | 2.7 MB    | ###9       |  39% \n",
      "liblapack-3.9.0      | 2.7 MB    | ########## | 100% \n",
      "liblapack-3.9.0      | 2.7 MB    | ########## | 100% \n",
      "\n",
      "m2w64-gcc-libs-5.3.0 | 520 KB    |            |   0% \n",
      "m2w64-gcc-libs-5.3.0 | 520 KB    | ########## | 100% \n",
      "m2w64-gcc-libs-5.3.0 | 520 KB    | ########## | 100% \n",
      "\n",
      "m2w64-tktable-2.10   | 113 KB    |            |   0% \n",
      "m2w64-tktable-2.10   | 113 KB    | #4         |  14% \n",
      "m2w64-tktable-2.10   | 113 KB    | ########## | 100% \n",
      "\n",
      "m2w64-gsl-2.1        | 2.4 MB    |            |   0% \n",
      "m2w64-gsl-2.1        | 2.4 MB    |            |   1% \n",
      "m2w64-gsl-2.1        | 2.4 MB    | 4          |   4% \n",
      "m2w64-gsl-2.1        | 2.4 MB    | 7          |   7% \n",
      "m2w64-gsl-2.1        | 2.4 MB    | #2         |  12% \n",
      "m2w64-gsl-2.1        | 2.4 MB    | #7         |  17% \n",
      "m2w64-gsl-2.1        | 2.4 MB    | ##2        |  22% \n",
      "m2w64-gsl-2.1        | 2.4 MB    | ##7        |  28% \n",
      "m2w64-gsl-2.1        | 2.4 MB    | ###3       |  34% \n",
      "m2w64-gsl-2.1        | 2.4 MB    | ###9       |  39% \n",
      "m2w64-gsl-2.1        | 2.4 MB    | ####6      |  46% \n",
      "m2w64-gsl-2.1        | 2.4 MB    | #####1     |  51% \n",
      "m2w64-gsl-2.1        | 2.4 MB    | ######7    |  67% \n",
      "m2w64-gsl-2.1        | 2.4 MB    | #######3   |  74% \n",
      "m2w64-gsl-2.1        | 2.4 MB    | ########1  |  82% \n",
      "m2w64-gsl-2.1        | 2.4 MB    | #########4 |  95% \n",
      "m2w64-gsl-2.1        | 2.4 MB    | ########## | 100% \n",
      "\n",
      "m2w64-gmp-6.1.0      | 726 KB    |            |   0% \n",
      "m2w64-gmp-6.1.0      | 726 KB    | ######3    |  64% \n",
      "m2w64-gmp-6.1.0      | 726 KB    | ########## | 100% \n",
      "\n",
      "m2w64-libxml2-2.9.3  | 2.1 MB    |            |   0% \n",
      "m2w64-libxml2-2.9.3  | 2.1 MB    |            |   1% \n",
      "m2w64-libxml2-2.9.3  | 2.1 MB    | 3          |   4% \n",
      "m2w64-libxml2-2.9.3  | 2.1 MB    | 6          |   7% \n",
      "m2w64-libxml2-2.9.3  | 2.1 MB    | #          |  11% \n",
      "m2w64-libxml2-2.9.3  | 2.1 MB    | #6         |  17% \n",
      "m2w64-libxml2-2.9.3  | 2.1 MB    | ##4        |  25% \n",
      "m2w64-libxml2-2.9.3  | 2.1 MB    | ##7        |  28% \n",
      "m2w64-libxml2-2.9.3  | 2.1 MB    | ###1       |  32% \n",
      "m2w64-libxml2-2.9.3  | 2.1 MB    | ###4       |  35% \n",
      "m2w64-libxml2-2.9.3  | 2.1 MB    | ###9       |  40% \n",
      "m2w64-libxml2-2.9.3  | 2.1 MB    | ####3      |  44% \n",
      "m2w64-libxml2-2.9.3  | 2.1 MB    | ####6      |  47% \n",
      "m2w64-libxml2-2.9.3  | 2.1 MB    | #####1     |  51% \n",
      "m2w64-libxml2-2.9.3  | 2.1 MB    | #####5     |  56% \n",
      "m2w64-libxml2-2.9.3  | 2.1 MB    | #####8     |  59% \n",
      "m2w64-libxml2-2.9.3  | 2.1 MB    | ######4    |  64% \n",
      "m2w64-libxml2-2.9.3  | 2.1 MB    | #######    |  70% \n",
      "m2w64-libxml2-2.9.3  | 2.1 MB    | #########1 |  92% \n",
      "m2w64-libxml2-2.9.3  | 2.1 MB    | ########## | 100% \n",
      "m2w64-libxml2-2.9.3  | 2.1 MB    | ########## | 100% \n",
      "\n",
      "m2w64-libvorbis-1.3. | 537 KB    |            |   0% \n",
      "m2w64-libvorbis-1.3. | 537 KB    | 2          |   3% \n",
      "m2w64-libvorbis-1.3. | 537 KB    | ########## | 100% \n",
      "m2w64-libvorbis-1.3. | 537 KB    | ########## | 100% \n",
      "\n",
      "m2w64-bzip2-1.0.6    | 102 KB    |            |   0% \n",
      "m2w64-bzip2-1.0.6    | 102 KB    | ########## | 100% \n",
      "m2w64-bzip2-1.0.6    | 102 KB    | ########## | 100% \n",
      "\n",
      "_r-mutex-1.0.1       | 3 KB      |            |   0% \n",
      "_r-mutex-1.0.1       | 3 KB      | ########## | 100% \n",
      "_r-mutex-1.0.1       | 3 KB      | ########## | 100% \n",
      "\n",
      "m2w64-tk-8.6.5       | 2.2 MB    |            |   0% \n",
      "m2w64-tk-8.6.5       | 2.2 MB    |            |   1% \n",
      "m2w64-tk-8.6.5       | 2.2 MB    | 7          |   8% \n",
      "m2w64-tk-8.6.5       | 2.2 MB    | #4         |  15% \n",
      "m2w64-tk-8.6.5       | 2.2 MB    | ##3        |  23% \n",
      "m2w64-tk-8.6.5       | 2.2 MB    | ###1       |  32% \n",
      "m2w64-tk-8.6.5       | 2.2 MB    | #####      |  50% \n",
      "m2w64-tk-8.6.5       | 2.2 MB    | ######7    |  68% \n",
      "m2w64-tk-8.6.5       | 2.2 MB    | ########7  |  87% \n",
      "m2w64-tk-8.6.5       | 2.2 MB    | ########## | 100% \n",
      "\n",
      "m2w64-gettext-0.19.7 | 4.0 MB    |            |   0% \n",
      "m2w64-gettext-0.19.7 | 4.0 MB    | #5         |  15% \n",
      "m2w64-gettext-0.19.7 | 4.0 MB    | #######1   |  71% \n",
      "m2w64-gettext-0.19.7 | 4.0 MB    | ########## | 100% \n",
      "\n",
      "m2w64-libiconv-1.14  | 1.5 MB    |            |   0% \n",
      "m2w64-libiconv-1.14  | 1.5 MB    | ########## | 100% \n",
      "m2w64-libiconv-1.14  | 1.5 MB    | ########## | 100% \n",
      "\n"
     ]
    },
    {
     "name": "stdout",
     "output_type": "stream",
     "text": [
      "m2w64-tcl-8.6.5      | 3.7 MB    |            |   0% \n",
      "m2w64-tcl-8.6.5      | 3.7 MB    |            |   0% \n",
      "m2w64-tcl-8.6.5      | 3.7 MB    | 4          |   4% \n",
      "m2w64-tcl-8.6.5      | 3.7 MB    | ##3        |  24% \n",
      "m2w64-tcl-8.6.5      | 3.7 MB    | ###3       |  34% \n",
      "m2w64-tcl-8.6.5      | 3.7 MB    | ####4      |  44% \n",
      "m2w64-tcl-8.6.5      | 3.7 MB    | #####4     |  55% \n",
      "m2w64-tcl-8.6.5      | 3.7 MB    | ######5    |  66% \n",
      "m2w64-tcl-8.6.5      | 3.7 MB    | ########   |  81% \n",
      "m2w64-tcl-8.6.5      | 3.7 MB    | ########## | 100% \n",
      "m2w64-tcl-8.6.5      | 3.7 MB    | ########## | 100% \n",
      "\n",
      "m2w64-speex-1.2rc2   | 610 KB    |            |   0% \n",
      "m2w64-speex-1.2rc2   | 610 KB    | 2          |   3% \n",
      "m2w64-speex-1.2rc2   | 610 KB    | #######6   |  76% \n",
      "m2w64-speex-1.2rc2   | 610 KB    | ########## | 100% \n",
      "\n",
      "m2w64-pcre2-10.34    | 1.5 MB    |            |   0% \n",
      "m2w64-pcre2-10.34    | 1.5 MB    | 1          |   1% \n",
      "m2w64-pcre2-10.34    | 1.5 MB    | ####6      |  47% \n",
      "m2w64-pcre2-10.34    | 1.5 MB    | ########   |  81% \n",
      "m2w64-pcre2-10.34    | 1.5 MB    | ########## | 100% \n",
      "\n",
      "m2w64-libjpeg-turbo- | 651 KB    |            |   0% \n",
      "m2w64-libjpeg-turbo- | 651 KB    | 2          |   2% \n",
      "m2w64-libjpeg-turbo- | 651 KB    | #9         |  20% \n",
      "m2w64-libjpeg-turbo- | 651 KB    | ####6      |  47% \n",
      "m2w64-libjpeg-turbo- | 651 KB    | #######1   |  71% \n",
      "m2w64-libjpeg-turbo- | 651 KB    | ########## | 100% \n",
      "m2w64-libjpeg-turbo- | 651 KB    | ########## | 100% \n",
      "\n",
      "m2w64-expat-2.1.1    | 161 KB    |            |   0% \n",
      "m2w64-expat-2.1.1    | 161 KB    | ########## | 100% \n",
      "m2w64-expat-2.1.1    | 161 KB    | ########## | 100% \n",
      "\n",
      "m2w64-mpfr-3.1.4     | 294 KB    |            |   0% \n",
      "m2w64-mpfr-3.1.4     | 294 KB    | ########## | 100% \n",
      "m2w64-mpfr-3.1.4     | 294 KB    | ########## | 100% \n",
      "\n",
      "r-base-4.1.3         | 55.3 MB   |            |   0% \n",
      "r-base-4.1.3         | 55.3 MB   |            |   0% \n",
      "r-base-4.1.3         | 55.3 MB   |            |   1% \n",
      "r-base-4.1.3         | 55.3 MB   |            |   1% \n",
      "r-base-4.1.3         | 55.3 MB   | 1          |   2% \n",
      "r-base-4.1.3         | 55.3 MB   | 2          |   2% \n",
      "r-base-4.1.3         | 55.3 MB   | 2          |   3% \n",
      "r-base-4.1.3         | 55.3 MB   | 3          |   4% \n",
      "r-base-4.1.3         | 55.3 MB   | 3          |   4% \n",
      "r-base-4.1.3         | 55.3 MB   | 4          |   4% \n",
      "r-base-4.1.3         | 55.3 MB   | 5          |   5% \n",
      "r-base-4.1.3         | 55.3 MB   | 5          |   6% \n",
      "r-base-4.1.3         | 55.3 MB   | 5          |   6% \n",
      "r-base-4.1.3         | 55.3 MB   | 6          |   6% \n",
      "r-base-4.1.3         | 55.3 MB   | 6          |   7% \n",
      "r-base-4.1.3         | 55.3 MB   | 7          |   7% \n",
      "r-base-4.1.3         | 55.3 MB   | 7          |   8% \n",
      "r-base-4.1.3         | 55.3 MB   | 8          |   9% \n",
      "r-base-4.1.3         | 55.3 MB   | 8          |   9% \n",
      "r-base-4.1.3         | 55.3 MB   | 9          |   9% \n",
      "r-base-4.1.3         | 55.3 MB   | 9          |  10% \n",
      "r-base-4.1.3         | 55.3 MB   | #          |  10% \n",
      "r-base-4.1.3         | 55.3 MB   | #1         |  11% \n",
      "r-base-4.1.3         | 55.3 MB   | #1         |  12% \n",
      "r-base-4.1.3         | 55.3 MB   | #2         |  12% \n",
      "r-base-4.1.3         | 55.3 MB   | #3         |  13% \n",
      "r-base-4.1.3         | 55.3 MB   | #3         |  14% \n",
      "r-base-4.1.3         | 55.3 MB   | #4         |  14% \n",
      "r-base-4.1.3         | 55.3 MB   | #4         |  15% \n",
      "r-base-4.1.3         | 55.3 MB   | #5         |  15% \n",
      "r-base-4.1.3         | 55.3 MB   | #5         |  16% \n",
      "r-base-4.1.3         | 55.3 MB   | #6         |  17% \n",
      "r-base-4.1.3         | 55.3 MB   | #8         |  18% \n",
      "r-base-4.1.3         | 55.3 MB   | #9         |  19% \n",
      "r-base-4.1.3         | 55.3 MB   | ##         |  20% \n",
      "r-base-4.1.3         | 55.3 MB   | ##1        |  22% \n",
      "r-base-4.1.3         | 55.3 MB   | ##3        |  24% \n",
      "r-base-4.1.3         | 55.3 MB   | ##5        |  26% \n",
      "r-base-4.1.3         | 55.3 MB   | ##8        |  29% \n",
      "r-base-4.1.3         | 55.3 MB   | ###1       |  32% \n",
      "r-base-4.1.3         | 55.3 MB   | ###4       |  34% \n",
      "r-base-4.1.3         | 55.3 MB   | ###7       |  38% \n",
      "r-base-4.1.3         | 55.3 MB   | ####       |  40% \n",
      "r-base-4.1.3         | 55.3 MB   | ####2      |  43% \n",
      "r-base-4.1.3         | 55.3 MB   | ####5      |  46% \n",
      "r-base-4.1.3         | 55.3 MB   | ####8      |  49% \n",
      "r-base-4.1.3         | 55.3 MB   | #####1     |  52% \n",
      "r-base-4.1.3         | 55.3 MB   | #####4     |  55% \n",
      "r-base-4.1.3         | 55.3 MB   | #####7     |  57% \n",
      "r-base-4.1.3         | 55.3 MB   | ######     |  60% \n",
      "r-base-4.1.3         | 55.3 MB   | ######3    |  63% \n",
      "r-base-4.1.3         | 55.3 MB   | ######6    |  66% \n",
      "r-base-4.1.3         | 55.3 MB   | ######9    |  69% \n",
      "r-base-4.1.3         | 55.3 MB   | #######1   |  72% \n",
      "r-base-4.1.3         | 55.3 MB   | #######5   |  75% \n",
      "r-base-4.1.3         | 55.3 MB   | #######8   |  78% \n",
      "r-base-4.1.3         | 55.3 MB   | ########1  |  81% \n",
      "r-base-4.1.3         | 55.3 MB   | ########4  |  84% \n",
      "r-base-4.1.3         | 55.3 MB   | ########7  |  87% \n",
      "r-base-4.1.3         | 55.3 MB   | #########  |  90% \n",
      "r-base-4.1.3         | 55.3 MB   | #########3 |  93% \n",
      "r-base-4.1.3         | 55.3 MB   | #########6 |  96% \n",
      "r-base-4.1.3         | 55.3 MB   | #########9 |  99% \n",
      "r-base-4.1.3         | 55.3 MB   | ########## | 100% \n",
      "\n",
      "m2w64-zlib-1.2.8     | 199 KB    |            |   0% \n",
      "m2w64-zlib-1.2.8     | 199 KB    | ########## | 100% \n",
      "m2w64-zlib-1.2.8     | 199 KB    | ########## | 100% \n",
      "\n",
      "m2w64-libtiff-4.0.6  | 1.2 MB    |            |   0% \n",
      "m2w64-libtiff-4.0.6  | 1.2 MB    | 1          |   1% \n",
      "m2w64-libtiff-4.0.6  | 1.2 MB    | 8          |   9% \n",
      "m2w64-libtiff-4.0.6  | 1.2 MB    | #9         |  19% \n",
      "m2w64-libtiff-4.0.6  | 1.2 MB    | ##4        |  24% \n",
      "m2w64-libtiff-4.0.6  | 1.2 MB    | ###4       |  35% \n",
      "m2w64-libtiff-4.0.6  | 1.2 MB    | ####7      |  47% \n",
      "m2w64-libtiff-4.0.6  | 1.2 MB    | #####7     |  58% \n",
      "m2w64-libtiff-4.0.6  | 1.2 MB    | #######4   |  74% \n",
      "m2w64-libtiff-4.0.6  | 1.2 MB    | #########3 |  93% \n",
      "m2w64-libtiff-4.0.6  | 1.2 MB    | ########## | 100% \n",
      "\n",
      "m2w64-wineditline-2. | 48 KB     |            |   0% \n",
      "m2w64-wineditline-2. | 48 KB     | ###3       |  34% \n",
      "m2w64-wineditline-2. | 48 KB     | ########## | 100% \n",
      "\n",
      "m2w64-xz-5.2.2       | 379 KB    |            |   0% \n",
      "m2w64-xz-5.2.2       | 379 KB    | 4          |   4% \n",
      "m2w64-xz-5.2.2       | 379 KB    | ###3       |  34% \n",
      "m2w64-xz-5.2.2       | 379 KB    | ########   |  80% \n",
      "m2w64-xz-5.2.2       | 379 KB    | ########## | 100% \n",
      "\n",
      "m2w64-libpng-1.6.21  | 431 KB    |            |   0% \n",
      "m2w64-libpng-1.6.21  | 431 KB    | 3          |   4% \n",
      "m2w64-libpng-1.6.21  | 431 KB    | #1         |  11% \n",
      "m2w64-libpng-1.6.21  | 431 KB    | ##9        |  30% \n",
      "m2w64-libpng-1.6.21  | 431 KB    | ####       |  41% \n",
      "m2w64-libpng-1.6.21  | 431 KB    | #####1     |  52% \n",
      "m2w64-libpng-1.6.21  | 431 KB    | ########1  |  82% \n",
      "m2w64-libpng-1.6.21  | 431 KB    | ########## | 100% \n",
      "m2w64-libpng-1.6.21  | 431 KB    | ########## | 100% \n",
      "\n",
      "m2w64-libogg-1.3.2   | 207 KB    |            |   0% \n",
      "m2w64-libogg-1.3.2   | 207 KB    | 7          |   8% \n",
      "m2w64-libogg-1.3.2   | 207 KB    | ########## | 100% \n",
      "m2w64-libogg-1.3.2   | 207 KB    | ########## | 100% \n",
      "Preparing transaction: ...working... done\n",
      "Verifying transaction: ...working... done\n",
      "Executing transaction: ...working... done\n"
     ]
    }
   ],
   "source": [
    "conda install -c conda-forge r-tree\n"
   ]
  },
  {
   "cell_type": "code",
   "execution_count": 49,
   "id": "dc695d14",
   "metadata": {},
   "outputs": [],
   "source": [
    "clfs = {\n",
    "    'GaussianNB':gnb,\n",
    "    'MultinomialNB':mnb,\n",
    "    'BernoulliNB':bnb,\n",
    "    'KNeighborsClassifier':knc,\n",
    "    'LogisticRegression':lrc,\n",
    "    'RandomForestClassifier':rfc,\n",
    "    'AdaBoost':abc,\n",
    "    'BaggingClassifier':bc,\n",
    "    'ExtraTreesClassifier':etc,\n",
    "    'GBDTGradientBoostingClassifier':gbdt,\n",
    "    'DecisionTreeClassifier':dtc,\n",
    "    'SVM':svc,\n",
    "    'XGBClassifier':xgb\n",
    "}"
   ]
  },
  {
   "cell_type": "code",
   "execution_count": 50,
   "id": "e88218e2",
   "metadata": {},
   "outputs": [],
   "source": [
    "from sklearn.metrics import recall_score\n",
    "from sklearn.metrics import f1_score"
   ]
  },
  {
   "cell_type": "code",
   "execution_count": 52,
   "id": "1667f8b6",
   "metadata": {},
   "outputs": [],
   "source": [
    "def train_classifier(clf,X_train,y_train,X_test,y_test):\n",
    "    clf.fit(X_train,y_train)\n",
    "    y_pred = clf.predict(X_test)\n",
    "    accuracy=accuracy_score(y_test,y_pred)\n",
    "    precision=precision_score(y_test,y_pred)\n",
    "    recall = recall_score(y_test,y_pred)\n",
    "    f1Score = f1_score(y_test,y_pred)\n",
    "    return accuracy,precision,recall,f1Score"
   ]
  },
  {
   "cell_type": "code",
   "execution_count": 53,
   "id": "205baea7",
   "metadata": {},
   "outputs": [],
   "source": [
    "def train_classifier1(clf,X1_train,y_train,X1_test,y_test):\n",
    "    clf.fit(X1_train,y_train)\n",
    "    y_pred = clf.predict(X1_test)\n",
    "    accuracy=accuracy_score(y_test,y_pred)\n",
    "    precision=precision_score(y_test,y_pred)\n",
    "    recall = recall_score(y_test,y_pred)\n",
    "    f1Score = f1_score(y_test,y_pred)\n",
    "    return accuracy,precision,recall,f1Score"
   ]
  },
  {
   "cell_type": "code",
   "execution_count": 54,
   "id": "c2623282",
   "metadata": {},
   "outputs": [
    {
     "data": {
      "text/plain": [
       "(0.984984984984985, 0.9555555555555556, 0.9966887417218543, 0.9756888168557537)"
      ]
     },
     "execution_count": 54,
     "metadata": {},
     "output_type": "execute_result"
    }
   ],
   "source": [
    "train_classifier(svc,X_train,y_train,X_test,y_test)"
   ]
  },
  {
   "cell_type": "code",
   "execution_count": 55,
   "id": "660bd9eb",
   "metadata": {},
   "outputs": [
    {
     "data": {
      "text/plain": [
       "(0.8168168168168168,\n",
       " 0.7117437722419929,\n",
       " 0.6622516556291391,\n",
       " 0.6861063464837049)"
      ]
     },
     "execution_count": 55,
     "metadata": {},
     "output_type": "execute_result"
    }
   ],
   "source": [
    "train_classifier1(svc,X1_train,y_train,X1_test,y_test)"
   ]
  },
  {
   "cell_type": "code",
   "execution_count": 39,
   "id": "e9fe2551",
   "metadata": {
    "scrolled": true
   },
   "outputs": [
    {
     "name": "stdout",
     "output_type": "stream",
     "text": [
      "For  GaussianNB\n",
      "Accuracy -  0.9516908212560387\n",
      "Precision -  0.9023569023569024\n",
      "Recall -  0.9273356401384083\n",
      "F1-Score -  0.9146757679180888\n",
      "For  MultinomialNB\n",
      "Accuracy -  0.9227053140096618\n",
      "Precision -  1.0\n",
      "Recall -  0.7231833910034602\n",
      "F1-Score -  0.8393574297188755\n",
      "For  BernoulliNB\n",
      "Accuracy -  0.851207729468599\n",
      "Precision -  0.8813559322033898\n",
      "Recall -  0.5397923875432526\n",
      "F1-Score -  0.6695278969957081\n",
      "For  KNeighborsClassifier\n",
      "Accuracy -  0.9671497584541063\n",
      "Precision -  0.9811320754716981\n",
      "Recall -  0.8996539792387543\n",
      "F1-Score -  0.9386281588447654\n",
      "For  LogisticRegression\n",
      "Accuracy -  0.966183574879227\n",
      "Precision -  0.89937106918239\n",
      "Recall -  0.9896193771626297\n",
      "F1-Score -  0.942339373970346\n",
      "For  RandomForestClassifier\n",
      "Accuracy -  0.9855072463768116\n",
      "Precision -  0.959731543624161\n",
      "Recall -  0.9896193771626297\n",
      "F1-Score -  0.9744463373083475\n",
      "For  AdaBoost\n",
      "Accuracy -  0.966183574879227\n",
      "Precision -  0.9205298013245033\n",
      "Recall -  0.9619377162629758\n",
      "F1-Score -  0.9407783417935701\n",
      "For  BaggingClassifier\n",
      "Accuracy -  0.9584541062801932\n",
      "Precision -  0.9270833333333334\n",
      "Recall -  0.9238754325259516\n",
      "F1-Score -  0.9254766031195841\n",
      "For  ExtraTreesClassifier\n",
      "Accuracy -  0.9864734299516909\n",
      "Precision -  0.9629629629629629\n",
      "Recall -  0.9896193771626297\n",
      "F1-Score -  0.9761092150170648\n",
      "For  GBDTGradientBoostingClassifier\n",
      "Accuracy -  0.9458937198067633\n",
      "Precision -  0.9298892988929889\n",
      "Recall -  0.8719723183391004\n",
      "F1-Score -  0.9\n",
      "For  DecisionTreeClassifier\n",
      "Accuracy -  0.8628019323671497\n",
      "Precision -  0.8\n",
      "Recall -  0.6782006920415224\n",
      "F1-Score -  0.7340823970037453\n",
      "For  SVM\n",
      "Accuracy -  0.9884057971014493\n",
      "Precision -  0.9601328903654485\n",
      "Recall -  1.0\n",
      "F1-Score -  0.9796610169491525\n"
     ]
    },
    {
     "name": "stderr",
     "output_type": "stream",
     "text": [
      "C:\\Users\\HP\\anaconda3\\lib\\site-packages\\xgboost\\sklearn.py:1224: UserWarning: The use of label encoder in XGBClassifier is deprecated and will be removed in a future release. To remove this warning, do the following: 1) Pass option use_label_encoder=False when constructing XGBClassifier object; and 2) Encode your labels (y) as integers starting with 0, i.e. 0, 1, 2, ..., [num_class - 1].\n",
      "  warnings.warn(label_encoder_deprecation_msg, UserWarning)\n"
     ]
    },
    {
     "name": "stdout",
     "output_type": "stream",
     "text": [
      "[16:57:10] WARNING: ..\\src\\learner.cc:1115: Starting in XGBoost 1.3.0, the default evaluation metric used with the objective 'binary:logistic' was changed from 'error' to 'logloss'. Explicitly set eval_metric if you'd like to restore the old behavior.\n",
      "For  XGBClassifier\n",
      "Accuracy -  0.9748792270531401\n",
      "Precision -  0.933993399339934\n",
      "Recall -  0.9792387543252595\n",
      "F1-Score -  0.956081081081081\n"
     ]
    }
   ],
   "source": [
    "accuracy_scores=[]\n",
    "precision_scores=[]\n",
    "recall_scores=[]\n",
    "f1_scores=[]\n",
    "\n",
    "for name,clf in clfs.items():\n",
    "    current_accuracy,current_precision,current_recall,current_f1Score = train_classifier(clf,X_train,y_train,X_test,y_test)\n",
    "    print(\"For \",name)\n",
    "    print(\"Accuracy - \",current_accuracy)\n",
    "    print(\"Precision - \",current_precision)\n",
    "    print(\"Recall - \",current_recall)\n",
    "    print(\"F1-Score - \",current_f1Score)\n",
    "    accuracy_scores.append(current_accuracy)\n",
    "    precision_scores.append(current_precision)\n",
    "    recall_scores.append(current_recall)\n",
    "    f1_scores.append(current_f1Score)"
   ]
  },
  {
   "cell_type": "code",
   "execution_count": 57,
   "id": "bbf04d60",
   "metadata": {},
   "outputs": [
    {
     "name": "stdout",
     "output_type": "stream",
     "text": [
      "For  GaussianNB\n",
      "Accuracy -  0.9519519519519519\n",
      "Precision -  0.950354609929078\n",
      "Recall -  0.8874172185430463\n",
      "F1-Score -  0.9178082191780823\n",
      "For  MultinomialNB\n",
      "Accuracy -  0.970970970970971\n",
      "Precision -  0.9446254071661238\n",
      "Recall -  0.9602649006622517\n",
      "F1-Score -  0.9523809523809523\n",
      "For  BernoulliNB\n",
      "Accuracy -  0.8468468468468469\n",
      "Precision -  0.8941798941798942\n",
      "Recall -  0.5596026490066225\n",
      "F1-Score -  0.6883910386965377\n",
      "For  KNeighborsClassifier\n",
      "Accuracy -  0.8448448448448449\n",
      "Precision -  0.6666666666666666\n",
      "Recall -  0.9735099337748344\n",
      "F1-Score -  0.7913862718707941\n",
      "For  LogisticRegression\n",
      "Accuracy -  0.963963963963964\n",
      "Precision -  0.9208860759493671\n",
      "Recall -  0.9635761589403974\n",
      "F1-Score -  0.9417475728155339\n",
      "For  RandomForestClassifier\n",
      "Accuracy -  0.972972972972973\n",
      "Precision -  0.9508196721311475\n",
      "Recall -  0.9602649006622517\n",
      "F1-Score -  0.9555189456342669\n",
      "For  AdaBoost\n",
      "Accuracy -  0.938938938938939\n",
      "Precision -  0.8801261829652997\n",
      "Recall -  0.9238410596026491\n",
      "F1-Score -  0.901453957996769\n",
      "For  BaggingClassifier\n",
      "Accuracy -  0.948948948948949\n",
      "Precision -  0.9114754098360656\n",
      "Recall -  0.9205298013245033\n",
      "F1-Score -  0.9159802306425041\n",
      "For  ExtraTreesClassifier\n",
      "Accuracy -  0.975975975975976\n",
      "Precision -  0.9455128205128205\n",
      "Recall -  0.9768211920529801\n",
      "F1-Score -  0.9609120521172638\n",
      "For  GBDTGradientBoostingClassifier\n",
      "Accuracy -  0.9379379379379379\n",
      "Precision -  0.8726708074534162\n",
      "Recall -  0.9304635761589404\n",
      "F1-Score -  0.9006410256410255\n",
      "For  DecisionTreeClassifier\n",
      "Accuracy -  0.8468468468468469\n",
      "Precision -  0.6736596736596736\n",
      "Recall -  0.956953642384106\n",
      "F1-Score -  0.7906976744186046\n",
      "For  SVM\n",
      "Accuracy -  0.8168168168168168\n",
      "Precision -  0.7117437722419929\n",
      "Recall -  0.6622516556291391\n",
      "F1-Score -  0.6861063464837049\n"
     ]
    },
    {
     "name": "stderr",
     "output_type": "stream",
     "text": [
      "C:\\Users\\HP\\anaconda3\\lib\\site-packages\\xgboost\\sklearn.py:1224: UserWarning: The use of label encoder in XGBClassifier is deprecated and will be removed in a future release. To remove this warning, do the following: 1) Pass option use_label_encoder=False when constructing XGBClassifier object; and 2) Encode your labels (y) as integers starting with 0, i.e. 0, 1, 2, ..., [num_class - 1].\n",
      "  warnings.warn(label_encoder_deprecation_msg, UserWarning)\n"
     ]
    },
    {
     "name": "stdout",
     "output_type": "stream",
     "text": [
      "[20:42:42] WARNING: ..\\src\\learner.cc:1115: Starting in XGBoost 1.3.0, the default evaluation metric used with the objective 'binary:logistic' was changed from 'error' to 'logloss'. Explicitly set eval_metric if you'd like to restore the old behavior.\n",
      "For  XGBClassifier\n",
      "Accuracy -  0.9629629629629629\n",
      "Precision -  0.9127725856697819\n",
      "Recall -  0.9701986754966887\n",
      "F1-Score -  0.9406099518459069\n"
     ]
    }
   ],
   "source": [
    "accuracy_scores1=[]\n",
    "precision_scores1=[]\n",
    "recall_scores1=[]\n",
    "f1_scores1=[]\n",
    "\n",
    "for name,clf in clfs.items():\n",
    "    current_accuracy,current_precision,current_recall,current_f1Score = train_classifier(clf,X1_train,y_train,X1_test,y_test)\n",
    "    print(\"For \",name)\n",
    "    print(\"Accuracy - \",current_accuracy)\n",
    "    print(\"Precision - \",current_precision)\n",
    "    print(\"Recall - \",current_recall)\n",
    "    print(\"F1-Score - \",current_f1Score)\n",
    "    accuracy_scores1.append(current_accuracy)\n",
    "    precision_scores1.append(current_precision)\n",
    "    recall_scores1.append(current_recall)\n",
    "    f1_scores1.append(current_f1Score)"
   ]
  },
  {
   "cell_type": "code",
   "execution_count": 40,
   "id": "2f0d350e",
   "metadata": {},
   "outputs": [],
   "source": [
    "performance_df=pd.DataFrame({'Algorithm':clfs.keys(),'Accuracy':accuracy_scores,'Precision':precision_scores, 'Recall':recall_scores, 'F1-Score':f1_scores}).sort_values('Precision',ascending=False)"
   ]
  },
  {
   "cell_type": "code",
   "execution_count": 61,
   "id": "23aaec40",
   "metadata": {},
   "outputs": [],
   "source": [
    "performance_df2=pd.DataFrame({'Algorithm':clfs.keys(),'Accuracy':accuracy_scores1,'Precision':precision_scores1, 'Recall':recall_scores1, 'F1-Score':f1_scores1}).sort_values('Precision',ascending=False)"
   ]
  },
  {
   "cell_type": "code",
   "execution_count": 41,
   "id": "6d04ba05",
   "metadata": {},
   "outputs": [
    {
     "data": {
      "text/html": [
       "<div>\n",
       "<style scoped>\n",
       "    .dataframe tbody tr th:only-of-type {\n",
       "        vertical-align: middle;\n",
       "    }\n",
       "\n",
       "    .dataframe tbody tr th {\n",
       "        vertical-align: top;\n",
       "    }\n",
       "\n",
       "    .dataframe thead th {\n",
       "        text-align: right;\n",
       "    }\n",
       "</style>\n",
       "<table border=\"1\" class=\"dataframe\">\n",
       "  <thead>\n",
       "    <tr style=\"text-align: right;\">\n",
       "      <th></th>\n",
       "      <th>Algorithm</th>\n",
       "      <th>Accuracy</th>\n",
       "      <th>Precision</th>\n",
       "      <th>Recall</th>\n",
       "      <th>F1-Score</th>\n",
       "    </tr>\n",
       "  </thead>\n",
       "  <tbody>\n",
       "    <tr>\n",
       "      <th>1</th>\n",
       "      <td>MultinomialNB</td>\n",
       "      <td>0.922705</td>\n",
       "      <td>1.000000</td>\n",
       "      <td>0.723183</td>\n",
       "      <td>0.839357</td>\n",
       "    </tr>\n",
       "    <tr>\n",
       "      <th>3</th>\n",
       "      <td>KNeighborsClassifier</td>\n",
       "      <td>0.967150</td>\n",
       "      <td>0.981132</td>\n",
       "      <td>0.899654</td>\n",
       "      <td>0.938628</td>\n",
       "    </tr>\n",
       "    <tr>\n",
       "      <th>8</th>\n",
       "      <td>ExtraTreesClassifier</td>\n",
       "      <td>0.986473</td>\n",
       "      <td>0.962963</td>\n",
       "      <td>0.989619</td>\n",
       "      <td>0.976109</td>\n",
       "    </tr>\n",
       "    <tr>\n",
       "      <th>11</th>\n",
       "      <td>SVM</td>\n",
       "      <td>0.988406</td>\n",
       "      <td>0.960133</td>\n",
       "      <td>1.000000</td>\n",
       "      <td>0.979661</td>\n",
       "    </tr>\n",
       "    <tr>\n",
       "      <th>5</th>\n",
       "      <td>RandomForestClassifier</td>\n",
       "      <td>0.985507</td>\n",
       "      <td>0.959732</td>\n",
       "      <td>0.989619</td>\n",
       "      <td>0.974446</td>\n",
       "    </tr>\n",
       "    <tr>\n",
       "      <th>12</th>\n",
       "      <td>XGBClassifier</td>\n",
       "      <td>0.974879</td>\n",
       "      <td>0.933993</td>\n",
       "      <td>0.979239</td>\n",
       "      <td>0.956081</td>\n",
       "    </tr>\n",
       "    <tr>\n",
       "      <th>9</th>\n",
       "      <td>GBDTGradientBoostingClassifier</td>\n",
       "      <td>0.945894</td>\n",
       "      <td>0.929889</td>\n",
       "      <td>0.871972</td>\n",
       "      <td>0.900000</td>\n",
       "    </tr>\n",
       "    <tr>\n",
       "      <th>7</th>\n",
       "      <td>BaggingClassifier</td>\n",
       "      <td>0.958454</td>\n",
       "      <td>0.927083</td>\n",
       "      <td>0.923875</td>\n",
       "      <td>0.925477</td>\n",
       "    </tr>\n",
       "    <tr>\n",
       "      <th>6</th>\n",
       "      <td>AdaBoost</td>\n",
       "      <td>0.966184</td>\n",
       "      <td>0.920530</td>\n",
       "      <td>0.961938</td>\n",
       "      <td>0.940778</td>\n",
       "    </tr>\n",
       "    <tr>\n",
       "      <th>0</th>\n",
       "      <td>GaussianNB</td>\n",
       "      <td>0.951691</td>\n",
       "      <td>0.902357</td>\n",
       "      <td>0.927336</td>\n",
       "      <td>0.914676</td>\n",
       "    </tr>\n",
       "    <tr>\n",
       "      <th>4</th>\n",
       "      <td>LogisticRegression</td>\n",
       "      <td>0.966184</td>\n",
       "      <td>0.899371</td>\n",
       "      <td>0.989619</td>\n",
       "      <td>0.942339</td>\n",
       "    </tr>\n",
       "    <tr>\n",
       "      <th>2</th>\n",
       "      <td>BernoulliNB</td>\n",
       "      <td>0.851208</td>\n",
       "      <td>0.881356</td>\n",
       "      <td>0.539792</td>\n",
       "      <td>0.669528</td>\n",
       "    </tr>\n",
       "    <tr>\n",
       "      <th>10</th>\n",
       "      <td>DecisionTreeClassifier</td>\n",
       "      <td>0.862802</td>\n",
       "      <td>0.800000</td>\n",
       "      <td>0.678201</td>\n",
       "      <td>0.734082</td>\n",
       "    </tr>\n",
       "  </tbody>\n",
       "</table>\n",
       "</div>"
      ],
      "text/plain": [
       "                         Algorithm  Accuracy  Precision    Recall  F1-Score\n",
       "1                    MultinomialNB  0.922705   1.000000  0.723183  0.839357\n",
       "3             KNeighborsClassifier  0.967150   0.981132  0.899654  0.938628\n",
       "8             ExtraTreesClassifier  0.986473   0.962963  0.989619  0.976109\n",
       "11                             SVM  0.988406   0.960133  1.000000  0.979661\n",
       "5           RandomForestClassifier  0.985507   0.959732  0.989619  0.974446\n",
       "12                   XGBClassifier  0.974879   0.933993  0.979239  0.956081\n",
       "9   GBDTGradientBoostingClassifier  0.945894   0.929889  0.871972  0.900000\n",
       "7                BaggingClassifier  0.958454   0.927083  0.923875  0.925477\n",
       "6                         AdaBoost  0.966184   0.920530  0.961938  0.940778\n",
       "0                       GaussianNB  0.951691   0.902357  0.927336  0.914676\n",
       "4               LogisticRegression  0.966184   0.899371  0.989619  0.942339\n",
       "2                      BernoulliNB  0.851208   0.881356  0.539792  0.669528\n",
       "10          DecisionTreeClassifier  0.862802   0.800000  0.678201  0.734082"
      ]
     },
     "execution_count": 41,
     "metadata": {},
     "output_type": "execute_result"
    }
   ],
   "source": [
    "performance_df"
   ]
  },
  {
   "cell_type": "code",
   "execution_count": 62,
   "id": "9fbde4b0",
   "metadata": {},
   "outputs": [
    {
     "data": {
      "text/html": [
       "<div>\n",
       "<style scoped>\n",
       "    .dataframe tbody tr th:only-of-type {\n",
       "        vertical-align: middle;\n",
       "    }\n",
       "\n",
       "    .dataframe tbody tr th {\n",
       "        vertical-align: top;\n",
       "    }\n",
       "\n",
       "    .dataframe thead th {\n",
       "        text-align: right;\n",
       "    }\n",
       "</style>\n",
       "<table border=\"1\" class=\"dataframe\">\n",
       "  <thead>\n",
       "    <tr style=\"text-align: right;\">\n",
       "      <th></th>\n",
       "      <th>Algorithm</th>\n",
       "      <th>Accuracy</th>\n",
       "      <th>Precision</th>\n",
       "      <th>Recall</th>\n",
       "      <th>F1-Score</th>\n",
       "    </tr>\n",
       "  </thead>\n",
       "  <tbody>\n",
       "    <tr>\n",
       "      <th>5</th>\n",
       "      <td>RandomForestClassifier</td>\n",
       "      <td>0.972973</td>\n",
       "      <td>0.950820</td>\n",
       "      <td>0.960265</td>\n",
       "      <td>0.955519</td>\n",
       "    </tr>\n",
       "    <tr>\n",
       "      <th>0</th>\n",
       "      <td>GaussianNB</td>\n",
       "      <td>0.951952</td>\n",
       "      <td>0.950355</td>\n",
       "      <td>0.887417</td>\n",
       "      <td>0.917808</td>\n",
       "    </tr>\n",
       "    <tr>\n",
       "      <th>8</th>\n",
       "      <td>ExtraTreesClassifier</td>\n",
       "      <td>0.975976</td>\n",
       "      <td>0.945513</td>\n",
       "      <td>0.976821</td>\n",
       "      <td>0.960912</td>\n",
       "    </tr>\n",
       "    <tr>\n",
       "      <th>1</th>\n",
       "      <td>MultinomialNB</td>\n",
       "      <td>0.970971</td>\n",
       "      <td>0.944625</td>\n",
       "      <td>0.960265</td>\n",
       "      <td>0.952381</td>\n",
       "    </tr>\n",
       "    <tr>\n",
       "      <th>4</th>\n",
       "      <td>LogisticRegression</td>\n",
       "      <td>0.963964</td>\n",
       "      <td>0.920886</td>\n",
       "      <td>0.963576</td>\n",
       "      <td>0.941748</td>\n",
       "    </tr>\n",
       "    <tr>\n",
       "      <th>12</th>\n",
       "      <td>XGBClassifier</td>\n",
       "      <td>0.962963</td>\n",
       "      <td>0.912773</td>\n",
       "      <td>0.970199</td>\n",
       "      <td>0.940610</td>\n",
       "    </tr>\n",
       "    <tr>\n",
       "      <th>7</th>\n",
       "      <td>BaggingClassifier</td>\n",
       "      <td>0.948949</td>\n",
       "      <td>0.911475</td>\n",
       "      <td>0.920530</td>\n",
       "      <td>0.915980</td>\n",
       "    </tr>\n",
       "    <tr>\n",
       "      <th>2</th>\n",
       "      <td>BernoulliNB</td>\n",
       "      <td>0.846847</td>\n",
       "      <td>0.894180</td>\n",
       "      <td>0.559603</td>\n",
       "      <td>0.688391</td>\n",
       "    </tr>\n",
       "    <tr>\n",
       "      <th>6</th>\n",
       "      <td>AdaBoost</td>\n",
       "      <td>0.938939</td>\n",
       "      <td>0.880126</td>\n",
       "      <td>0.923841</td>\n",
       "      <td>0.901454</td>\n",
       "    </tr>\n",
       "    <tr>\n",
       "      <th>9</th>\n",
       "      <td>GBDTGradientBoostingClassifier</td>\n",
       "      <td>0.937938</td>\n",
       "      <td>0.872671</td>\n",
       "      <td>0.930464</td>\n",
       "      <td>0.900641</td>\n",
       "    </tr>\n",
       "    <tr>\n",
       "      <th>11</th>\n",
       "      <td>SVM</td>\n",
       "      <td>0.816817</td>\n",
       "      <td>0.711744</td>\n",
       "      <td>0.662252</td>\n",
       "      <td>0.686106</td>\n",
       "    </tr>\n",
       "    <tr>\n",
       "      <th>10</th>\n",
       "      <td>DecisionTreeClassifier</td>\n",
       "      <td>0.846847</td>\n",
       "      <td>0.673660</td>\n",
       "      <td>0.956954</td>\n",
       "      <td>0.790698</td>\n",
       "    </tr>\n",
       "    <tr>\n",
       "      <th>3</th>\n",
       "      <td>KNeighborsClassifier</td>\n",
       "      <td>0.844845</td>\n",
       "      <td>0.666667</td>\n",
       "      <td>0.973510</td>\n",
       "      <td>0.791386</td>\n",
       "    </tr>\n",
       "  </tbody>\n",
       "</table>\n",
       "</div>"
      ],
      "text/plain": [
       "                         Algorithm  Accuracy  Precision    Recall  F1-Score\n",
       "5           RandomForestClassifier  0.972973   0.950820  0.960265  0.955519\n",
       "0                       GaussianNB  0.951952   0.950355  0.887417  0.917808\n",
       "8             ExtraTreesClassifier  0.975976   0.945513  0.976821  0.960912\n",
       "1                    MultinomialNB  0.970971   0.944625  0.960265  0.952381\n",
       "4               LogisticRegression  0.963964   0.920886  0.963576  0.941748\n",
       "12                   XGBClassifier  0.962963   0.912773  0.970199  0.940610\n",
       "7                BaggingClassifier  0.948949   0.911475  0.920530  0.915980\n",
       "2                      BernoulliNB  0.846847   0.894180  0.559603  0.688391\n",
       "6                         AdaBoost  0.938939   0.880126  0.923841  0.901454\n",
       "9   GBDTGradientBoostingClassifier  0.937938   0.872671  0.930464  0.900641\n",
       "11                             SVM  0.816817   0.711744  0.662252  0.686106\n",
       "10          DecisionTreeClassifier  0.846847   0.673660  0.956954  0.790698\n",
       "3             KNeighborsClassifier  0.844845   0.666667  0.973510  0.791386"
      ]
     },
     "execution_count": 62,
     "metadata": {},
     "output_type": "execute_result"
    }
   ],
   "source": [
    "performance_df2"
   ]
  },
  {
   "cell_type": "code",
   "execution_count": 42,
   "id": "e6b5d1a8",
   "metadata": {},
   "outputs": [],
   "source": [
    "performance_df1 = pd.melt(performance_df, id_vars= \"Algorithm\")"
   ]
  },
  {
   "cell_type": "code",
   "execution_count": 63,
   "id": "48d55c9d",
   "metadata": {},
   "outputs": [],
   "source": [
    "performance_df3 = pd.melt(performance_df2, id_vars= \"Algorithm\")"
   ]
  },
  {
   "cell_type": "code",
   "execution_count": 43,
   "id": "00ee4c82",
   "metadata": {},
   "outputs": [
    {
     "data": {
      "image/png": "[encoded data removed]",
      "text/plain": [
       "<Figure size 801.75x720 with 1 Axes>"
      ]
     },
     "metadata": {
      "needs_background": "light"
     },
     "output_type": "display_data"
    }
   ],
   "source": [
    "sns.catplot(x = 'Algorithm', y='value', hue='variable',data=performance_df1,kind='bar',height=10)\n",
    "plt.ylim(0.5,1.0)\n",
    "plt.xticks(rotation='vertical')\n",
    "plt.show()"
   ]
  },
  {
   "cell_type": "code",
   "execution_count": 64,
   "id": "b5004dd1",
   "metadata": {},
   "outputs": [
    {
     "data": {
      "image/png": "[encoded data removed]",
      "text/plain": [
       "<Figure size 801.75x720 with 1 Axes>"
      ]
     },
     "metadata": {
      "needs_background": "light"
     },
     "output_type": "display_data"
    }
   ],
   "source": [
    "sns.catplot(x = 'Algorithm', y='value', hue='variable',data=performance_df3,kind='bar',height=10)\n",
    "plt.ylim(0.5,1.0)\n",
    "plt.xticks(rotation='vertical')\n",
    "plt.show()"
   ]
  },
  {
   "cell_type": "code",
   "execution_count": null,
   "id": "5603006d",
   "metadata": {},
   "outputs": [],
   "source": []
  }
 ],
 "metadata": {
  "kernelspec": {
   "display_name": "Python 3 (ipykernel)",
   "language": "python",
   "name": "python3"
  },
  "language_info": {
   "codemirror_mode": {
    "name": "ipython",
    "version": 3
   },
   "file_extension": ".py",
   "mimetype": "text/x-python",
   "name": "python",
   "nbconvert_exporter": "python",
   "pygments_lexer": "ipython3",
   "version": "3.9.12"
  }
 },
 "nbformat": 4,
 "nbformat_minor": 5
}
